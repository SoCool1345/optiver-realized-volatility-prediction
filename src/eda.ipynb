{
 "cells": [
  {
   "cell_type": "code",
   "execution_count": 1,
   "metadata": {},
   "outputs": [
    {
     "name": "stderr",
     "output_type": "stream",
     "text": [
      "C:\\Users\\zhou\\anaconda3\\lib\\site-packages\\scipy\\__init__.py:138: UserWarning: A NumPy version >=1.16.5 and <1.23.0 is required for this version of SciPy (detected version 1.23.1)\n",
      "  warnings.warn(f\"A NumPy version >={np_minversion} and <{np_maxversion} is required for this version of \"\n"
     ]
    },
    {
     "data": {
      "text/plain": "<module 'utils.util' from 'D:\\\\pycharm_project\\\\optiver-realized-volatility-prediction\\\\src\\\\utils\\\\util.py'>"
     },
     "execution_count": 1,
     "metadata": {},
     "output_type": "execute_result"
    }
   ],
   "source": [
    "from imp import reload\n",
    "import numpy as np\n",
    "from utils import util\n",
    "import pandas as pd\n",
    "reload(util)"
   ]
  },
  {
   "cell_type": "code",
   "execution_count": 2,
   "metadata": {},
   "outputs": [],
   "source": [
    "book0 = util.load_book(0)"
   ]
  },
  {
   "cell_type": "code",
   "execution_count": 4,
   "metadata": {},
   "outputs": [
    {
     "data": {
      "text/plain": "time_id\n5        302\n11       200\n16       188\n31       120\n62       176\n        ... \n32751    297\n32753    206\n32758    188\n32763    307\n32767    228\nLength: 3830, dtype: int64"
     },
     "execution_count": 4,
     "metadata": {},
     "output_type": "execute_result"
    }
   ],
   "source": [
    "book0.groupby('time_id').apply(lambda x:len(x))"
   ]
  },
  {
   "cell_type": "code",
   "execution_count": 5,
   "metadata": {},
   "outputs": [
    {
     "data": {
      "text/plain": "        time_id  seconds_in_bucket  bid_price1  ask_price1  bid_price2  \\\n0             5                  0    1.001422    1.002301    1.001370   \n1             5                  1    1.001422    1.002301    1.001370   \n2             5                  5    1.001422    1.002301    1.001370   \n3             5                  6    1.001422    1.002301    1.001370   \n4             5                  7    1.001422    1.002301    1.001370   \n...         ...                ...         ...         ...         ...   \n917548    32767                568    0.998275    0.998754    0.997796   \n917549    32767                569    0.998275    0.998754    0.997892   \n917550    32767                571    0.998275    0.998754    0.997892   \n917551    32767                572    0.998275    0.998754    0.997892   \n917552    32767                582    0.998275    0.998754    0.998179   \n\n        ask_price2  bid_size1  ask_size1  bid_size2  ask_size2  stock_id  \n0         1.002353          3        226          2        100         0  \n1         1.002353          3        100          2        100         0  \n2         1.002405          3        100          2        100         0  \n3         1.002405          3        126          2        100         0  \n4         1.002405          3        126          2        100         0  \n...            ...        ...        ...        ...        ...       ...  \n917548    0.998946         90         90         48         28         0  \n917549    0.998946         91         90        200         28         0  \n917550    0.998946         91         90        100         28         0  \n917551    0.998946         92         90        100         28         0  \n917552    0.998946         92         90         26         28         0  \n\n[917553 rows x 11 columns]",
      "text/html": "<div>\n<style scoped>\n    .dataframe tbody tr th:only-of-type {\n        vertical-align: middle;\n    }\n\n    .dataframe tbody tr th {\n        vertical-align: top;\n    }\n\n    .dataframe thead th {\n        text-align: right;\n    }\n</style>\n<table border=\"1\" class=\"dataframe\">\n  <thead>\n    <tr style=\"text-align: right;\">\n      <th></th>\n      <th>time_id</th>\n      <th>seconds_in_bucket</th>\n      <th>bid_price1</th>\n      <th>ask_price1</th>\n      <th>bid_price2</th>\n      <th>ask_price2</th>\n      <th>bid_size1</th>\n      <th>ask_size1</th>\n      <th>bid_size2</th>\n      <th>ask_size2</th>\n      <th>stock_id</th>\n    </tr>\n  </thead>\n  <tbody>\n    <tr>\n      <th>0</th>\n      <td>5</td>\n      <td>0</td>\n      <td>1.001422</td>\n      <td>1.002301</td>\n      <td>1.001370</td>\n      <td>1.002353</td>\n      <td>3</td>\n      <td>226</td>\n      <td>2</td>\n      <td>100</td>\n      <td>0</td>\n    </tr>\n    <tr>\n      <th>1</th>\n      <td>5</td>\n      <td>1</td>\n      <td>1.001422</td>\n      <td>1.002301</td>\n      <td>1.001370</td>\n      <td>1.002353</td>\n      <td>3</td>\n      <td>100</td>\n      <td>2</td>\n      <td>100</td>\n      <td>0</td>\n    </tr>\n    <tr>\n      <th>2</th>\n      <td>5</td>\n      <td>5</td>\n      <td>1.001422</td>\n      <td>1.002301</td>\n      <td>1.001370</td>\n      <td>1.002405</td>\n      <td>3</td>\n      <td>100</td>\n      <td>2</td>\n      <td>100</td>\n      <td>0</td>\n    </tr>\n    <tr>\n      <th>3</th>\n      <td>5</td>\n      <td>6</td>\n      <td>1.001422</td>\n      <td>1.002301</td>\n      <td>1.001370</td>\n      <td>1.002405</td>\n      <td>3</td>\n      <td>126</td>\n      <td>2</td>\n      <td>100</td>\n      <td>0</td>\n    </tr>\n    <tr>\n      <th>4</th>\n      <td>5</td>\n      <td>7</td>\n      <td>1.001422</td>\n      <td>1.002301</td>\n      <td>1.001370</td>\n      <td>1.002405</td>\n      <td>3</td>\n      <td>126</td>\n      <td>2</td>\n      <td>100</td>\n      <td>0</td>\n    </tr>\n    <tr>\n      <th>...</th>\n      <td>...</td>\n      <td>...</td>\n      <td>...</td>\n      <td>...</td>\n      <td>...</td>\n      <td>...</td>\n      <td>...</td>\n      <td>...</td>\n      <td>...</td>\n      <td>...</td>\n      <td>...</td>\n    </tr>\n    <tr>\n      <th>917548</th>\n      <td>32767</td>\n      <td>568</td>\n      <td>0.998275</td>\n      <td>0.998754</td>\n      <td>0.997796</td>\n      <td>0.998946</td>\n      <td>90</td>\n      <td>90</td>\n      <td>48</td>\n      <td>28</td>\n      <td>0</td>\n    </tr>\n    <tr>\n      <th>917549</th>\n      <td>32767</td>\n      <td>569</td>\n      <td>0.998275</td>\n      <td>0.998754</td>\n      <td>0.997892</td>\n      <td>0.998946</td>\n      <td>91</td>\n      <td>90</td>\n      <td>200</td>\n      <td>28</td>\n      <td>0</td>\n    </tr>\n    <tr>\n      <th>917550</th>\n      <td>32767</td>\n      <td>571</td>\n      <td>0.998275</td>\n      <td>0.998754</td>\n      <td>0.997892</td>\n      <td>0.998946</td>\n      <td>91</td>\n      <td>90</td>\n      <td>100</td>\n      <td>28</td>\n      <td>0</td>\n    </tr>\n    <tr>\n      <th>917551</th>\n      <td>32767</td>\n      <td>572</td>\n      <td>0.998275</td>\n      <td>0.998754</td>\n      <td>0.997892</td>\n      <td>0.998946</td>\n      <td>92</td>\n      <td>90</td>\n      <td>100</td>\n      <td>28</td>\n      <td>0</td>\n    </tr>\n    <tr>\n      <th>917552</th>\n      <td>32767</td>\n      <td>582</td>\n      <td>0.998275</td>\n      <td>0.998754</td>\n      <td>0.998179</td>\n      <td>0.998946</td>\n      <td>92</td>\n      <td>90</td>\n      <td>26</td>\n      <td>28</td>\n      <td>0</td>\n    </tr>\n  </tbody>\n</table>\n<p>917553 rows × 11 columns</p>\n</div>"
     },
     "execution_count": 5,
     "metadata": {},
     "output_type": "execute_result"
    }
   ],
   "source": [
    "book0"
   ]
  },
  {
   "cell_type": "code",
   "execution_count": 6,
   "metadata": {},
   "outputs": [],
   "source": [
    "trade0 = util.load_trade(0)"
   ]
  },
  {
   "cell_type": "code",
   "execution_count": 7,
   "metadata": {},
   "outputs": [
    {
     "data": {
      "text/plain": "   time_id  seconds_in_bucket     price  size  order_count  stock_id\n0        5                 21  1.002301   326           12         0\n1        5                 46  1.002778   128            4         0\n2        5                 50  1.002818    55            1         0\n3        5                 57  1.003155   121            5         0\n4        5                 68  1.003646     4            1         0",
      "text/html": "<div>\n<style scoped>\n    .dataframe tbody tr th:only-of-type {\n        vertical-align: middle;\n    }\n\n    .dataframe tbody tr th {\n        vertical-align: top;\n    }\n\n    .dataframe thead th {\n        text-align: right;\n    }\n</style>\n<table border=\"1\" class=\"dataframe\">\n  <thead>\n    <tr style=\"text-align: right;\">\n      <th></th>\n      <th>time_id</th>\n      <th>seconds_in_bucket</th>\n      <th>price</th>\n      <th>size</th>\n      <th>order_count</th>\n      <th>stock_id</th>\n    </tr>\n  </thead>\n  <tbody>\n    <tr>\n      <th>0</th>\n      <td>5</td>\n      <td>21</td>\n      <td>1.002301</td>\n      <td>326</td>\n      <td>12</td>\n      <td>0</td>\n    </tr>\n    <tr>\n      <th>1</th>\n      <td>5</td>\n      <td>46</td>\n      <td>1.002778</td>\n      <td>128</td>\n      <td>4</td>\n      <td>0</td>\n    </tr>\n    <tr>\n      <th>2</th>\n      <td>5</td>\n      <td>50</td>\n      <td>1.002818</td>\n      <td>55</td>\n      <td>1</td>\n      <td>0</td>\n    </tr>\n    <tr>\n      <th>3</th>\n      <td>5</td>\n      <td>57</td>\n      <td>1.003155</td>\n      <td>121</td>\n      <td>5</td>\n      <td>0</td>\n    </tr>\n    <tr>\n      <th>4</th>\n      <td>5</td>\n      <td>68</td>\n      <td>1.003646</td>\n      <td>4</td>\n      <td>1</td>\n      <td>0</td>\n    </tr>\n  </tbody>\n</table>\n</div>"
     },
     "execution_count": 7,
     "metadata": {},
     "output_type": "execute_result"
    }
   ],
   "source": [
    "trade0.head(5)"
   ]
  },
  {
   "cell_type": "code",
   "execution_count": 8,
   "metadata": {},
   "outputs": [],
   "source": [
    "book_trade = book0.merge(\n",
    "        trade0\n",
    "        , how='outer'\n",
    "        , on=['time_id', 'seconds_in_bucket', 'stock_id']\n",
    "    )"
   ]
  },
  {
   "cell_type": "code",
   "execution_count": 9,
   "metadata": {},
   "outputs": [
    {
     "data": {
      "text/plain": "   time_id  seconds_in_bucket  bid_price1  ask_price1  bid_price2  ask_price2  \\\n0        5                  0    1.001422    1.002301     1.00137    1.002353   \n1        5                  1    1.001422    1.002301     1.00137    1.002353   \n2        5                  5    1.001422    1.002301     1.00137    1.002405   \n3        5                  6    1.001422    1.002301     1.00137    1.002405   \n4        5                  7    1.001422    1.002301     1.00137    1.002405   \n\n   bid_size1  ask_size1  bid_size2  ask_size2  stock_id  price  size  \\\n0          3        226          2        100         0    NaN   NaN   \n1          3        100          2        100         0    NaN   NaN   \n2          3        100          2        100         0    NaN   NaN   \n3          3        126          2        100         0    NaN   NaN   \n4          3        126          2        100         0    NaN   NaN   \n\n   order_count  \n0          NaN  \n1          NaN  \n2          NaN  \n3          NaN  \n4          NaN  ",
      "text/html": "<div>\n<style scoped>\n    .dataframe tbody tr th:only-of-type {\n        vertical-align: middle;\n    }\n\n    .dataframe tbody tr th {\n        vertical-align: top;\n    }\n\n    .dataframe thead th {\n        text-align: right;\n    }\n</style>\n<table border=\"1\" class=\"dataframe\">\n  <thead>\n    <tr style=\"text-align: right;\">\n      <th></th>\n      <th>time_id</th>\n      <th>seconds_in_bucket</th>\n      <th>bid_price1</th>\n      <th>ask_price1</th>\n      <th>bid_price2</th>\n      <th>ask_price2</th>\n      <th>bid_size1</th>\n      <th>ask_size1</th>\n      <th>bid_size2</th>\n      <th>ask_size2</th>\n      <th>stock_id</th>\n      <th>price</th>\n      <th>size</th>\n      <th>order_count</th>\n    </tr>\n  </thead>\n  <tbody>\n    <tr>\n      <th>0</th>\n      <td>5</td>\n      <td>0</td>\n      <td>1.001422</td>\n      <td>1.002301</td>\n      <td>1.00137</td>\n      <td>1.002353</td>\n      <td>3</td>\n      <td>226</td>\n      <td>2</td>\n      <td>100</td>\n      <td>0</td>\n      <td>NaN</td>\n      <td>NaN</td>\n      <td>NaN</td>\n    </tr>\n    <tr>\n      <th>1</th>\n      <td>5</td>\n      <td>1</td>\n      <td>1.001422</td>\n      <td>1.002301</td>\n      <td>1.00137</td>\n      <td>1.002353</td>\n      <td>3</td>\n      <td>100</td>\n      <td>2</td>\n      <td>100</td>\n      <td>0</td>\n      <td>NaN</td>\n      <td>NaN</td>\n      <td>NaN</td>\n    </tr>\n    <tr>\n      <th>2</th>\n      <td>5</td>\n      <td>5</td>\n      <td>1.001422</td>\n      <td>1.002301</td>\n      <td>1.00137</td>\n      <td>1.002405</td>\n      <td>3</td>\n      <td>100</td>\n      <td>2</td>\n      <td>100</td>\n      <td>0</td>\n      <td>NaN</td>\n      <td>NaN</td>\n      <td>NaN</td>\n    </tr>\n    <tr>\n      <th>3</th>\n      <td>5</td>\n      <td>6</td>\n      <td>1.001422</td>\n      <td>1.002301</td>\n      <td>1.00137</td>\n      <td>1.002405</td>\n      <td>3</td>\n      <td>126</td>\n      <td>2</td>\n      <td>100</td>\n      <td>0</td>\n      <td>NaN</td>\n      <td>NaN</td>\n      <td>NaN</td>\n    </tr>\n    <tr>\n      <th>4</th>\n      <td>5</td>\n      <td>7</td>\n      <td>1.001422</td>\n      <td>1.002301</td>\n      <td>1.00137</td>\n      <td>1.002405</td>\n      <td>3</td>\n      <td>126</td>\n      <td>2</td>\n      <td>100</td>\n      <td>0</td>\n      <td>NaN</td>\n      <td>NaN</td>\n      <td>NaN</td>\n    </tr>\n  </tbody>\n</table>\n</div>"
     },
     "execution_count": 9,
     "metadata": {},
     "output_type": "execute_result"
    }
   ],
   "source": [
    "book_trade.head(5)"
   ]
  },
  {
   "cell_type": "code",
   "execution_count": 10,
   "metadata": {},
   "outputs": [
    {
     "data": {
      "text/plain": "numpy.float64"
     },
     "execution_count": 10,
     "metadata": {},
     "output_type": "execute_result"
    }
   ],
   "source": [
    "type(book_trade.order_count.iloc[0])"
   ]
  },
  {
   "cell_type": "code",
   "execution_count": 11,
   "metadata": {},
   "outputs": [
    {
     "data": {
      "text/plain": "   time_id  seconds_in_bucket     price  size  order_count  stock_id\n0        5                 21  1.002301   326           12         0\n1        5                 46  1.002778   128            4         0\n2        5                 50  1.002818    55            1         0\n3        5                 57  1.003155   121            5         0\n4        5                 68  1.003646     4            1         0",
      "text/html": "<div>\n<style scoped>\n    .dataframe tbody tr th:only-of-type {\n        vertical-align: middle;\n    }\n\n    .dataframe tbody tr th {\n        vertical-align: top;\n    }\n\n    .dataframe thead th {\n        text-align: right;\n    }\n</style>\n<table border=\"1\" class=\"dataframe\">\n  <thead>\n    <tr style=\"text-align: right;\">\n      <th></th>\n      <th>time_id</th>\n      <th>seconds_in_bucket</th>\n      <th>price</th>\n      <th>size</th>\n      <th>order_count</th>\n      <th>stock_id</th>\n    </tr>\n  </thead>\n  <tbody>\n    <tr>\n      <th>0</th>\n      <td>5</td>\n      <td>21</td>\n      <td>1.002301</td>\n      <td>326</td>\n      <td>12</td>\n      <td>0</td>\n    </tr>\n    <tr>\n      <th>1</th>\n      <td>5</td>\n      <td>46</td>\n      <td>1.002778</td>\n      <td>128</td>\n      <td>4</td>\n      <td>0</td>\n    </tr>\n    <tr>\n      <th>2</th>\n      <td>5</td>\n      <td>50</td>\n      <td>1.002818</td>\n      <td>55</td>\n      <td>1</td>\n      <td>0</td>\n    </tr>\n    <tr>\n      <th>3</th>\n      <td>5</td>\n      <td>57</td>\n      <td>1.003155</td>\n      <td>121</td>\n      <td>5</td>\n      <td>0</td>\n    </tr>\n    <tr>\n      <th>4</th>\n      <td>5</td>\n      <td>68</td>\n      <td>1.003646</td>\n      <td>4</td>\n      <td>1</td>\n      <td>0</td>\n    </tr>\n  </tbody>\n</table>\n</div>"
     },
     "execution_count": 11,
     "metadata": {},
     "output_type": "execute_result"
    }
   ],
   "source": [
    "trade0.head(5)"
   ]
  },
  {
   "cell_type": "code",
   "execution_count": 12,
   "metadata": {},
   "outputs": [
    {
     "data": {
      "text/plain": "dtype('int32')"
     },
     "execution_count": 12,
     "metadata": {},
     "output_type": "execute_result"
    }
   ],
   "source": [
    "trade0.order_count.dtype"
   ]
  },
  {
   "cell_type": "code",
   "execution_count": 13,
   "metadata": {},
   "outputs": [
    {
     "data": {
      "text/plain": "   time_id  seconds_in_bucket  bid_price1  ask_price1  bid_price2  ask_price2  \\\n0        5                  0    1.001422    1.002301     1.00137    1.002353   \n1        5                  1    1.001422    1.002301     1.00137    1.002353   \n2        5                  5    1.001422    1.002301     1.00137    1.002405   \n3        5                  6    1.001422    1.002301     1.00137    1.002405   \n4        5                  7    1.001422    1.002301     1.00137    1.002405   \n\n   bid_size1  ask_size1  bid_size2  ask_size2  stock_id  \n0          3        226          2        100         0  \n1          3        100          2        100         0  \n2          3        100          2        100         0  \n3          3        126          2        100         0  \n4          3        126          2        100         0  ",
      "text/html": "<div>\n<style scoped>\n    .dataframe tbody tr th:only-of-type {\n        vertical-align: middle;\n    }\n\n    .dataframe tbody tr th {\n        vertical-align: top;\n    }\n\n    .dataframe thead th {\n        text-align: right;\n    }\n</style>\n<table border=\"1\" class=\"dataframe\">\n  <thead>\n    <tr style=\"text-align: right;\">\n      <th></th>\n      <th>time_id</th>\n      <th>seconds_in_bucket</th>\n      <th>bid_price1</th>\n      <th>ask_price1</th>\n      <th>bid_price2</th>\n      <th>ask_price2</th>\n      <th>bid_size1</th>\n      <th>ask_size1</th>\n      <th>bid_size2</th>\n      <th>ask_size2</th>\n      <th>stock_id</th>\n    </tr>\n  </thead>\n  <tbody>\n    <tr>\n      <th>0</th>\n      <td>5</td>\n      <td>0</td>\n      <td>1.001422</td>\n      <td>1.002301</td>\n      <td>1.00137</td>\n      <td>1.002353</td>\n      <td>3</td>\n      <td>226</td>\n      <td>2</td>\n      <td>100</td>\n      <td>0</td>\n    </tr>\n    <tr>\n      <th>1</th>\n      <td>5</td>\n      <td>1</td>\n      <td>1.001422</td>\n      <td>1.002301</td>\n      <td>1.00137</td>\n      <td>1.002353</td>\n      <td>3</td>\n      <td>100</td>\n      <td>2</td>\n      <td>100</td>\n      <td>0</td>\n    </tr>\n    <tr>\n      <th>2</th>\n      <td>5</td>\n      <td>5</td>\n      <td>1.001422</td>\n      <td>1.002301</td>\n      <td>1.00137</td>\n      <td>1.002405</td>\n      <td>3</td>\n      <td>100</td>\n      <td>2</td>\n      <td>100</td>\n      <td>0</td>\n    </tr>\n    <tr>\n      <th>3</th>\n      <td>5</td>\n      <td>6</td>\n      <td>1.001422</td>\n      <td>1.002301</td>\n      <td>1.00137</td>\n      <td>1.002405</td>\n      <td>3</td>\n      <td>126</td>\n      <td>2</td>\n      <td>100</td>\n      <td>0</td>\n    </tr>\n    <tr>\n      <th>4</th>\n      <td>5</td>\n      <td>7</td>\n      <td>1.001422</td>\n      <td>1.002301</td>\n      <td>1.00137</td>\n      <td>1.002405</td>\n      <td>3</td>\n      <td>126</td>\n      <td>2</td>\n      <td>100</td>\n      <td>0</td>\n    </tr>\n  </tbody>\n</table>\n</div>"
     },
     "execution_count": 13,
     "metadata": {},
     "output_type": "execute_result"
    }
   ],
   "source": [
    "book0.head(5)"
   ]
  },
  {
   "cell_type": "code",
   "execution_count": 14,
   "metadata": {},
   "outputs": [
    {
     "data": {
      "text/plain": "dtype('int32')"
     },
     "execution_count": 14,
     "metadata": {},
     "output_type": "execute_result"
    }
   ],
   "source": [
    "book0.ask_size2.dtype"
   ]
  },
  {
   "cell_type": "code",
   "execution_count": 24,
   "metadata": {},
   "outputs": [],
   "source": [
    "label = pd.read_csv('../data/train.csv')\n",
    "label = label[label.stock_id==0]\n",
    "label = label.sort_values('time_id').target"
   ]
  },
  {
   "cell_type": "code",
   "execution_count": 20,
   "metadata": {},
   "outputs": [
    {
     "data": {
      "text/plain": "0       0.004136\n1       0.001445\n2       0.002168\n3       0.002195\n4       0.001747\n          ...   \n3825    0.002611\n3826    0.001190\n3827    0.004264\n3828    0.004352\n3829    0.001084\nName: target, Length: 3830, dtype: float64"
     },
     "execution_count": 20,
     "metadata": {},
     "output_type": "execute_result"
    }
   ],
   "source": [
    "label"
   ]
  },
  {
   "cell_type": "code",
   "execution_count": 25,
   "metadata": {},
   "outputs": [
    {
     "ename": "AttributeError",
     "evalue": "'Series' object has no attribute 'stock_id'",
     "output_type": "error",
     "traceback": [
      "\u001B[1;31m---------------------------------------------------------------------------\u001B[0m",
      "\u001B[1;31mAttributeError\u001B[0m                            Traceback (most recent call last)",
      "\u001B[1;32m<ipython-input-25-784f48415394>\u001B[0m in \u001B[0;36m<module>\u001B[1;34m\u001B[0m\n\u001B[1;32m----> 1\u001B[1;33m \u001B[0mlabel\u001B[0m \u001B[1;33m=\u001B[0m \u001B[0mlabel\u001B[0m\u001B[1;33m[\u001B[0m\u001B[0mlabel\u001B[0m\u001B[1;33m.\u001B[0m\u001B[0mstock_id\u001B[0m\u001B[1;33m==\u001B[0m\u001B[1;36m0\u001B[0m\u001B[1;33m]\u001B[0m\u001B[1;33m\u001B[0m\u001B[1;33m\u001B[0m\u001B[0m\n\u001B[0m\u001B[0;32m      2\u001B[0m \u001B[1;33m\u001B[0m\u001B[0m\n",
      "\u001B[1;32m~\\AppData\\Roaming\\Python\\Python38\\site-packages\\pandas\\core\\generic.py\u001B[0m in \u001B[0;36m__getattr__\u001B[1;34m(self, name)\u001B[0m\n\u001B[0;32m   5485\u001B[0m         ):\n\u001B[0;32m   5486\u001B[0m             \u001B[1;32mreturn\u001B[0m \u001B[0mself\u001B[0m\u001B[1;33m[\u001B[0m\u001B[0mname\u001B[0m\u001B[1;33m]\u001B[0m\u001B[1;33m\u001B[0m\u001B[1;33m\u001B[0m\u001B[0m\n\u001B[1;32m-> 5487\u001B[1;33m         \u001B[1;32mreturn\u001B[0m \u001B[0mobject\u001B[0m\u001B[1;33m.\u001B[0m\u001B[0m__getattribute__\u001B[0m\u001B[1;33m(\u001B[0m\u001B[0mself\u001B[0m\u001B[1;33m,\u001B[0m \u001B[0mname\u001B[0m\u001B[1;33m)\u001B[0m\u001B[1;33m\u001B[0m\u001B[1;33m\u001B[0m\u001B[0m\n\u001B[0m\u001B[0;32m   5488\u001B[0m \u001B[1;33m\u001B[0m\u001B[0m\n\u001B[0;32m   5489\u001B[0m     \u001B[1;32mdef\u001B[0m \u001B[0m__setattr__\u001B[0m\u001B[1;33m(\u001B[0m\u001B[0mself\u001B[0m\u001B[1;33m,\u001B[0m \u001B[0mname\u001B[0m\u001B[1;33m:\u001B[0m \u001B[0mstr\u001B[0m\u001B[1;33m,\u001B[0m \u001B[0mvalue\u001B[0m\u001B[1;33m)\u001B[0m \u001B[1;33m->\u001B[0m \u001B[1;32mNone\u001B[0m\u001B[1;33m:\u001B[0m\u001B[1;33m\u001B[0m\u001B[1;33m\u001B[0m\u001B[0m\n",
      "\u001B[1;31mAttributeError\u001B[0m: 'Series' object has no attribute 'stock_id'"
     ]
    }
   ],
   "source": [
    "label = label[label.stock_id==0]"
   ]
  },
  {
   "cell_type": "code",
   "execution_count": 22,
   "metadata": {},
   "outputs": [
    {
     "name": "stderr",
     "output_type": "stream",
     "text": [
      "<ipython-input-22-a78ca6383816>:1: FutureWarning: In a future version of pandas all arguments of Series.sort_values will be keyword-only\n",
      "  label.sort_values('time_id').target\n"
     ]
    },
    {
     "ename": "ValueError",
     "evalue": "No axis named time_id for object type Series",
     "output_type": "error",
     "traceback": [
      "\u001B[1;31m---------------------------------------------------------------------------\u001B[0m",
      "\u001B[1;31mKeyError\u001B[0m                                  Traceback (most recent call last)",
      "\u001B[1;32m~\\AppData\\Roaming\\Python\\Python38\\site-packages\\pandas\\core\\generic.py\u001B[0m in \u001B[0;36m_get_axis_number\u001B[1;34m(cls, axis)\u001B[0m\n\u001B[0;32m    545\u001B[0m         \u001B[1;32mtry\u001B[0m\u001B[1;33m:\u001B[0m\u001B[1;33m\u001B[0m\u001B[1;33m\u001B[0m\u001B[0m\n\u001B[1;32m--> 546\u001B[1;33m             \u001B[1;32mreturn\u001B[0m \u001B[0mcls\u001B[0m\u001B[1;33m.\u001B[0m\u001B[0m_AXIS_TO_AXIS_NUMBER\u001B[0m\u001B[1;33m[\u001B[0m\u001B[0maxis\u001B[0m\u001B[1;33m]\u001B[0m\u001B[1;33m\u001B[0m\u001B[1;33m\u001B[0m\u001B[0m\n\u001B[0m\u001B[0;32m    547\u001B[0m         \u001B[1;32mexcept\u001B[0m \u001B[0mKeyError\u001B[0m\u001B[1;33m:\u001B[0m\u001B[1;33m\u001B[0m\u001B[1;33m\u001B[0m\u001B[0m\n",
      "\u001B[1;31mKeyError\u001B[0m: 'time_id'",
      "\nDuring handling of the above exception, another exception occurred:\n",
      "\u001B[1;31mValueError\u001B[0m                                Traceback (most recent call last)",
      "\u001B[1;32m<ipython-input-22-a78ca6383816>\u001B[0m in \u001B[0;36m<module>\u001B[1;34m\u001B[0m\n\u001B[1;32m----> 1\u001B[1;33m \u001B[0mlabel\u001B[0m\u001B[1;33m.\u001B[0m\u001B[0msort_values\u001B[0m\u001B[1;33m(\u001B[0m\u001B[1;34m'time_id'\u001B[0m\u001B[1;33m)\u001B[0m\u001B[1;33m.\u001B[0m\u001B[0mtarget\u001B[0m\u001B[1;33m\u001B[0m\u001B[1;33m\u001B[0m\u001B[0m\n\u001B[0m\u001B[0;32m      2\u001B[0m \u001B[1;33m\u001B[0m\u001B[0m\n",
      "\u001B[1;32m~\\AppData\\Roaming\\Python\\Python38\\site-packages\\pandas\\util\\_decorators.py\u001B[0m in \u001B[0;36mwrapper\u001B[1;34m(*args, **kwargs)\u001B[0m\n\u001B[0;32m    309\u001B[0m                     \u001B[0mstacklevel\u001B[0m\u001B[1;33m=\u001B[0m\u001B[0mstacklevel\u001B[0m\u001B[1;33m,\u001B[0m\u001B[1;33m\u001B[0m\u001B[1;33m\u001B[0m\u001B[0m\n\u001B[0;32m    310\u001B[0m                 )\n\u001B[1;32m--> 311\u001B[1;33m             \u001B[1;32mreturn\u001B[0m \u001B[0mfunc\u001B[0m\u001B[1;33m(\u001B[0m\u001B[1;33m*\u001B[0m\u001B[0margs\u001B[0m\u001B[1;33m,\u001B[0m \u001B[1;33m**\u001B[0m\u001B[0mkwargs\u001B[0m\u001B[1;33m)\u001B[0m\u001B[1;33m\u001B[0m\u001B[1;33m\u001B[0m\u001B[0m\n\u001B[0m\u001B[0;32m    312\u001B[0m \u001B[1;33m\u001B[0m\u001B[0m\n\u001B[0;32m    313\u001B[0m         \u001B[1;32mreturn\u001B[0m \u001B[0mwrapper\u001B[0m\u001B[1;33m\u001B[0m\u001B[1;33m\u001B[0m\u001B[0m\n",
      "\u001B[1;32m~\\AppData\\Roaming\\Python\\Python38\\site-packages\\pandas\\core\\series.py\u001B[0m in \u001B[0;36msort_values\u001B[1;34m(self, axis, ascending, inplace, kind, na_position, ignore_index, key)\u001B[0m\n\u001B[0;32m   3428\u001B[0m         \u001B[0minplace\u001B[0m \u001B[1;33m=\u001B[0m \u001B[0mvalidate_bool_kwarg\u001B[0m\u001B[1;33m(\u001B[0m\u001B[0minplace\u001B[0m\u001B[1;33m,\u001B[0m \u001B[1;34m\"inplace\"\u001B[0m\u001B[1;33m)\u001B[0m\u001B[1;33m\u001B[0m\u001B[1;33m\u001B[0m\u001B[0m\n\u001B[0;32m   3429\u001B[0m         \u001B[1;31m# Validate the axis parameter\u001B[0m\u001B[1;33m\u001B[0m\u001B[1;33m\u001B[0m\u001B[1;33m\u001B[0m\u001B[0m\n\u001B[1;32m-> 3430\u001B[1;33m         \u001B[0mself\u001B[0m\u001B[1;33m.\u001B[0m\u001B[0m_get_axis_number\u001B[0m\u001B[1;33m(\u001B[0m\u001B[0maxis\u001B[0m\u001B[1;33m)\u001B[0m\u001B[1;33m\u001B[0m\u001B[1;33m\u001B[0m\u001B[0m\n\u001B[0m\u001B[0;32m   3431\u001B[0m \u001B[1;33m\u001B[0m\u001B[0m\n\u001B[0;32m   3432\u001B[0m         \u001B[1;31m# GH 5856/5853\u001B[0m\u001B[1;33m\u001B[0m\u001B[1;33m\u001B[0m\u001B[1;33m\u001B[0m\u001B[0m\n",
      "\u001B[1;32m~\\AppData\\Roaming\\Python\\Python38\\site-packages\\pandas\\core\\generic.py\u001B[0m in \u001B[0;36m_get_axis_number\u001B[1;34m(cls, axis)\u001B[0m\n\u001B[0;32m    546\u001B[0m             \u001B[1;32mreturn\u001B[0m \u001B[0mcls\u001B[0m\u001B[1;33m.\u001B[0m\u001B[0m_AXIS_TO_AXIS_NUMBER\u001B[0m\u001B[1;33m[\u001B[0m\u001B[0maxis\u001B[0m\u001B[1;33m]\u001B[0m\u001B[1;33m\u001B[0m\u001B[1;33m\u001B[0m\u001B[0m\n\u001B[0;32m    547\u001B[0m         \u001B[1;32mexcept\u001B[0m \u001B[0mKeyError\u001B[0m\u001B[1;33m:\u001B[0m\u001B[1;33m\u001B[0m\u001B[1;33m\u001B[0m\u001B[0m\n\u001B[1;32m--> 548\u001B[1;33m             \u001B[1;32mraise\u001B[0m \u001B[0mValueError\u001B[0m\u001B[1;33m(\u001B[0m\u001B[1;34mf\"No axis named {axis} for object type {cls.__name__}\"\u001B[0m\u001B[1;33m)\u001B[0m\u001B[1;33m\u001B[0m\u001B[1;33m\u001B[0m\u001B[0m\n\u001B[0m\u001B[0;32m    549\u001B[0m \u001B[1;33m\u001B[0m\u001B[0m\n\u001B[0;32m    550\u001B[0m     \u001B[1;33m@\u001B[0m\u001B[0mfinal\u001B[0m\u001B[1;33m\u001B[0m\u001B[1;33m\u001B[0m\u001B[0m\n",
      "\u001B[1;31mValueError\u001B[0m: No axis named time_id for object type Series"
     ]
    }
   ],
   "source": [
    "label.sort_values('time_id').target"
   ]
  },
  {
   "cell_type": "code",
   "execution_count": 26,
   "metadata": {},
   "outputs": [
    {
     "name": "stderr",
     "output_type": "stream",
     "text": [
      "100%|██████████| 112/112 [00:17<00:00,  6.33it/s]\n"
     ]
    }
   ],
   "source": [
    "from glob import glob\n",
    "from tqdm import tqdm\n",
    "import os\n",
    "path_lst = glob('../data/book_train.parquet/*')\n",
    "name_lst = [os.path.basename(path).split('=')[-1] for path in path_lst]\n",
    "for name in tqdm(name_lst):\n",
    "    book = util.load_book(name)\n",
    "    if len(np.where(pd.isna(book))[0])!=0:\n",
    "        print(pd.isna(book))"
   ]
  },
  {
   "cell_type": "code",
   "execution_count": null,
   "metadata": {},
   "outputs": [],
   "source": []
  },
  {
   "cell_type": "code",
   "execution_count": null,
   "metadata": {},
   "outputs": [],
   "source": []
  }
 ],
 "metadata": {
  "hide_input": false,
  "kernelspec": {
   "name": "optiver-realized-volatility-prediction",
   "language": "python",
   "display_name": "optiver-realized-volatility-prediction"
  },
  "language_info": {
   "codemirror_mode": {
    "name": "ipython",
    "version": 3
   },
   "file_extension": ".py",
   "mimetype": "text/x-python",
   "name": "python",
   "nbconvert_exporter": "python",
   "pygments_lexer": "ipython3",
   "version": "3.8.8"
  },
  "varInspector": {
   "cols": {
    "lenName": 16,
    "lenType": 16,
    "lenVar": 40
   },
   "kernels_config": {
    "python": {
     "delete_cmd_postfix": "",
     "delete_cmd_prefix": "del ",
     "library": "var_list.py",
     "varRefreshCmd": "print(var_dic_list())"
    },
    "r": {
     "delete_cmd_postfix": ") ",
     "delete_cmd_prefix": "rm(",
     "library": "var_list.r",
     "varRefreshCmd": "cat(var_dic_list()) "
    }
   },
   "types_to_exclude": [
    "module",
    "function",
    "builtin_function_or_method",
    "instance",
    "_Feature"
   ],
   "window_display": false
  }
 },
 "nbformat": 4,
 "nbformat_minor": 2
}