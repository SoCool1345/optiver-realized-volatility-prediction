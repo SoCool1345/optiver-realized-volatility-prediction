{
 "cells": [
  {
   "cell_type": "code",
   "execution_count": 1,
   "metadata": {},
   "outputs": [],
   "source": [
    "import pandas as pd\n",
    "import numpy as np\n",
    "import lightgbm as lgb\n",
    "from imp import reload\n",
    "import warnings\n",
    "from utils import util\n",
    "from sklearn import model_selection\n",
    "reload(util)\n",
    "warnings.filterwarnings('ignore')"
   ]
  },
  {
   "cell_type": "code",
   "execution_count": 4,
   "metadata": {},
   "outputs": [],
   "source": [
    "df_all = pd.read_csv('../data/20210813.csv',index_col = 0)"
   ]
  },
  {
   "cell_type": "code",
   "execution_count": 5,
   "metadata": {},
   "outputs": [],
   "source": [
    "df_all_stock = df_all[['stock_id']+df_all.columns[df_all.columns.str.endswith('_stock')].tolist()]\n",
    "df_all_stock.drop_duplicates().to_pickle('../data/20210805.pkl')"
   ]
  },
  {
   "cell_type": "code",
   "execution_count": 6,
   "metadata": {},
   "outputs": [],
   "source": [
    "params = {\n",
    "    'n_estimators': 10000,\n",
    "    'objective': 'rmse',\n",
    "    'boosting_type': 'gbdt',\n",
    "    'max_depth': -1,\n",
    "    'learning_rate': 0.01,\n",
    "    'subsample': 0.72,\n",
    "    'subsample_freq': 4,\n",
    "    'feature_fraction': 0.8,\n",
    "    'lambda_l1': 1,\n",
    "    'lambda_l2': 1,\n",
    "    'seed': 66,\n",
    "    'early_stopping_rounds': 300,\n",
    "    'verbose': -1\n",
    "} "
   ]
  },
  {
   "cell_type": "code",
   "execution_count": 7,
   "metadata": {},
   "outputs": [
    {
     "data": {
      "text/plain": "   time_id  Bnum  waproll_std5_B_mean  waproll_std5_B_std  \\\n0        5   121             0.000241            0.000170   \n1       11    86             0.000056            0.000050   \n2       16    58             0.000227            0.000150   \n3       31    34             0.000320            0.000231   \n4       62    59             0.000154            0.000107   \n\n   waproll_std5_B_skew  waproll_std5_B_autocorr  waproll_std10_B_mean  \\\n0             1.165827                 0.853977              0.000308   \n1             1.578742                 0.741271              0.000077   \n2             0.470599                 0.810892              0.000329   \n3             0.490494                 0.735359              0.000375   \n4             0.903460                 0.757607              0.000186   \n\n   waproll_std10_B_std  waproll_std10_B_skew  waproll_std10_B_autocorr  ...  \\\n0             0.000189              1.555764                  0.945936  ...   \n1             0.000051              1.299488                  0.904767  ...   \n2             0.000191              0.306457                  0.953324  ...   \n3             0.000187              0.087565                  0.882541  ...   \n4             0.000062              0.123891                  0.824784  ...   \n\n   __book_wap2_lambda_____min___stock  \\\n0                            0.001347   \n1                            0.001347   \n2                            0.001347   \n3                            0.001347   \n4                            0.001347   \n\n   __book_wap_mean_lambda_____mean___stock  \\\n0                                 0.004194   \n1                                 0.004194   \n2                                 0.004194   \n3                                 0.004194   \n4                                 0.004194   \n\n   __book_wap_mean_lambda_____std___stock  \\\n0                                0.003253   \n1                                0.003253   \n2                                0.003253   \n3                                0.003253   \n4                                0.003253   \n\n   __book_wap_mean_lambda_____max___stock  \\\n0                                0.048913   \n1                                0.048913   \n2                                0.048913   \n3                                0.048913   \n4                                0.048913   \n\n   __book_wap_mean_lambda_____min___stock  \\\n0                                0.000775   \n1                                0.000775   \n2                                0.000775   \n3                                0.000775   \n4                                0.000775   \n\n   __book_wap_diff_lambda_____mean___stock  \\\n0                                      NaN   \n1                                      NaN   \n2                                      NaN   \n3                                      NaN   \n4                                      NaN   \n\n   __book_wap_diff_lambda_____std___stock  \\\n0                                     NaN   \n1                                     NaN   \n2                                     NaN   \n3                                     NaN   \n4                                     NaN   \n\n   __book_wap_diff_lambda_____max___stock  \\\n0                                     NaN   \n1                                     NaN   \n2                                     NaN   \n3                                     NaN   \n4                                     NaN   \n\n   __book_wap_diff_lambda_____min___stock    target  \n0                                1.640377  0.004136  \n1                                1.640377  0.001445  \n2                                1.640377  0.002168  \n3                                1.640377  0.002195  \n4                                1.640377  0.001747  \n\n[5 rows x 218 columns]",
      "text/html": "<div>\n<style scoped>\n    .dataframe tbody tr th:only-of-type {\n        vertical-align: middle;\n    }\n\n    .dataframe tbody tr th {\n        vertical-align: top;\n    }\n\n    .dataframe thead th {\n        text-align: right;\n    }\n</style>\n<table border=\"1\" class=\"dataframe\">\n  <thead>\n    <tr style=\"text-align: right;\">\n      <th></th>\n      <th>time_id</th>\n      <th>Bnum</th>\n      <th>waproll_std5_B_mean</th>\n      <th>waproll_std5_B_std</th>\n      <th>waproll_std5_B_skew</th>\n      <th>waproll_std5_B_autocorr</th>\n      <th>waproll_std10_B_mean</th>\n      <th>waproll_std10_B_std</th>\n      <th>waproll_std10_B_skew</th>\n      <th>waproll_std10_B_autocorr</th>\n      <th>...</th>\n      <th>__book_wap2_lambda_____min___stock</th>\n      <th>__book_wap_mean_lambda_____mean___stock</th>\n      <th>__book_wap_mean_lambda_____std___stock</th>\n      <th>__book_wap_mean_lambda_____max___stock</th>\n      <th>__book_wap_mean_lambda_____min___stock</th>\n      <th>__book_wap_diff_lambda_____mean___stock</th>\n      <th>__book_wap_diff_lambda_____std___stock</th>\n      <th>__book_wap_diff_lambda_____max___stock</th>\n      <th>__book_wap_diff_lambda_____min___stock</th>\n      <th>target</th>\n    </tr>\n  </thead>\n  <tbody>\n    <tr>\n      <th>0</th>\n      <td>5</td>\n      <td>121</td>\n      <td>0.000241</td>\n      <td>0.000170</td>\n      <td>1.165827</td>\n      <td>0.853977</td>\n      <td>0.000308</td>\n      <td>0.000189</td>\n      <td>1.555764</td>\n      <td>0.945936</td>\n      <td>...</td>\n      <td>0.001347</td>\n      <td>0.004194</td>\n      <td>0.003253</td>\n      <td>0.048913</td>\n      <td>0.000775</td>\n      <td>NaN</td>\n      <td>NaN</td>\n      <td>NaN</td>\n      <td>1.640377</td>\n      <td>0.004136</td>\n    </tr>\n    <tr>\n      <th>1</th>\n      <td>11</td>\n      <td>86</td>\n      <td>0.000056</td>\n      <td>0.000050</td>\n      <td>1.578742</td>\n      <td>0.741271</td>\n      <td>0.000077</td>\n      <td>0.000051</td>\n      <td>1.299488</td>\n      <td>0.904767</td>\n      <td>...</td>\n      <td>0.001347</td>\n      <td>0.004194</td>\n      <td>0.003253</td>\n      <td>0.048913</td>\n      <td>0.000775</td>\n      <td>NaN</td>\n      <td>NaN</td>\n      <td>NaN</td>\n      <td>1.640377</td>\n      <td>0.001445</td>\n    </tr>\n    <tr>\n      <th>2</th>\n      <td>16</td>\n      <td>58</td>\n      <td>0.000227</td>\n      <td>0.000150</td>\n      <td>0.470599</td>\n      <td>0.810892</td>\n      <td>0.000329</td>\n      <td>0.000191</td>\n      <td>0.306457</td>\n      <td>0.953324</td>\n      <td>...</td>\n      <td>0.001347</td>\n      <td>0.004194</td>\n      <td>0.003253</td>\n      <td>0.048913</td>\n      <td>0.000775</td>\n      <td>NaN</td>\n      <td>NaN</td>\n      <td>NaN</td>\n      <td>1.640377</td>\n      <td>0.002168</td>\n    </tr>\n    <tr>\n      <th>3</th>\n      <td>31</td>\n      <td>34</td>\n      <td>0.000320</td>\n      <td>0.000231</td>\n      <td>0.490494</td>\n      <td>0.735359</td>\n      <td>0.000375</td>\n      <td>0.000187</td>\n      <td>0.087565</td>\n      <td>0.882541</td>\n      <td>...</td>\n      <td>0.001347</td>\n      <td>0.004194</td>\n      <td>0.003253</td>\n      <td>0.048913</td>\n      <td>0.000775</td>\n      <td>NaN</td>\n      <td>NaN</td>\n      <td>NaN</td>\n      <td>1.640377</td>\n      <td>0.002195</td>\n    </tr>\n    <tr>\n      <th>4</th>\n      <td>62</td>\n      <td>59</td>\n      <td>0.000154</td>\n      <td>0.000107</td>\n      <td>0.903460</td>\n      <td>0.757607</td>\n      <td>0.000186</td>\n      <td>0.000062</td>\n      <td>0.123891</td>\n      <td>0.824784</td>\n      <td>...</td>\n      <td>0.001347</td>\n      <td>0.004194</td>\n      <td>0.003253</td>\n      <td>0.048913</td>\n      <td>0.000775</td>\n      <td>NaN</td>\n      <td>NaN</td>\n      <td>NaN</td>\n      <td>1.640377</td>\n      <td>0.001747</td>\n    </tr>\n  </tbody>\n</table>\n<p>5 rows × 218 columns</p>\n</div>"
     },
     "execution_count": 7,
     "metadata": {},
     "output_type": "execute_result"
    }
   ],
   "source": [
    "df_all.head(5)"
   ]
  },
  {
   "cell_type": "code",
   "execution_count": 8,
   "metadata": {},
   "outputs": [],
   "source": [
    "X_train = df_all[df_all.columns.difference(['target'])]\n",
    "y_train = df_all['target']\n",
    "features = df_all[df_all.columns.difference(['time_id','target'])].columns.tolist()\n",
    "pd.DataFrame(features).to_pickle('../data/features_name.pkl')"
   ]
  },
  {
   "cell_type": "code",
   "execution_count": 9,
   "metadata": {},
   "outputs": [
    {
     "name": "stderr",
     "output_type": "stream",
     "text": [
      "0it [00:00, ?it/s]"
     ]
    },
    {
     "name": "stdout",
     "output_type": "stream",
     "text": [
      "Training until validation scores don't improve for 300 rounds\n",
      "[250]\ttraining's l2: 2.56888e-07\ttraining's RMSPE: 0.234446\tvalid_1's l2: 2.62979e-07\tvalid_1's RMSPE: 0.238483\n",
      "[500]\ttraining's l2: 2.27615e-07\ttraining's RMSPE: 0.220684\tvalid_1's l2: 2.36102e-07\tvalid_1's RMSPE: 0.225968\n",
      "[750]\ttraining's l2: 2.175e-07\ttraining's RMSPE: 0.215725\tvalid_1's l2: 2.29071e-07\tvalid_1's RMSPE: 0.222578\n",
      "[1000]\ttraining's l2: 2.10068e-07\ttraining's RMSPE: 0.212008\tvalid_1's l2: 2.25201e-07\tvalid_1's RMSPE: 0.22069\n",
      "[1250]\ttraining's l2: 2.04006e-07\ttraining's RMSPE: 0.208926\tvalid_1's l2: 2.21572e-07\tvalid_1's RMSPE: 0.218905\n",
      "[1500]\ttraining's l2: 1.9907e-07\ttraining's RMSPE: 0.206383\tvalid_1's l2: 2.18644e-07\tvalid_1's RMSPE: 0.217454\n",
      "[1750]\ttraining's l2: 1.94782e-07\ttraining's RMSPE: 0.204149\tvalid_1's l2: 2.16239e-07\tvalid_1's RMSPE: 0.216254\n",
      "[2000]\ttraining's l2: 1.9109e-07\ttraining's RMSPE: 0.202204\tvalid_1's l2: 2.13709e-07\tvalid_1's RMSPE: 0.214986\n",
      "[2250]\ttraining's l2: 1.8782e-07\ttraining's RMSPE: 0.200467\tvalid_1's l2: 2.11973e-07\tvalid_1's RMSPE: 0.214111\n",
      "[2500]\ttraining's l2: 1.849e-07\ttraining's RMSPE: 0.198902\tvalid_1's l2: 2.10928e-07\tvalid_1's RMSPE: 0.213582\n",
      "[2750]\ttraining's l2: 1.82228e-07\ttraining's RMSPE: 0.19746\tvalid_1's l2: 2.09735e-07\tvalid_1's RMSPE: 0.212977\n",
      "[3000]\ttraining's l2: 1.79843e-07\ttraining's RMSPE: 0.196164\tvalid_1's l2: 2.08751e-07\tvalid_1's RMSPE: 0.212477\n",
      "[3250]\ttraining's l2: 1.77407e-07\ttraining's RMSPE: 0.194831\tvalid_1's l2: 2.0779e-07\tvalid_1's RMSPE: 0.211987\n",
      "[3500]\ttraining's l2: 1.75247e-07\ttraining's RMSPE: 0.193641\tvalid_1's l2: 2.0686e-07\tvalid_1's RMSPE: 0.211512\n",
      "[3750]\ttraining's l2: 1.73277e-07\ttraining's RMSPE: 0.192549\tvalid_1's l2: 2.06254e-07\tvalid_1's RMSPE: 0.211202\n",
      "[4000]\ttraining's l2: 1.71446e-07\ttraining's RMSPE: 0.191529\tvalid_1's l2: 2.05508e-07\tvalid_1's RMSPE: 0.21082\n",
      "[4250]\ttraining's l2: 1.69583e-07\ttraining's RMSPE: 0.190486\tvalid_1's l2: 2.04839e-07\tvalid_1's RMSPE: 0.210477\n",
      "[4500]\ttraining's l2: 1.67946e-07\ttraining's RMSPE: 0.189564\tvalid_1's l2: 2.0438e-07\tvalid_1's RMSPE: 0.210241\n",
      "[4750]\ttraining's l2: 1.66198e-07\ttraining's RMSPE: 0.188575\tvalid_1's l2: 2.03727e-07\tvalid_1's RMSPE: 0.209905\n",
      "[5000]\ttraining's l2: 1.64545e-07\ttraining's RMSPE: 0.187635\tvalid_1's l2: 2.03509e-07\tvalid_1's RMSPE: 0.209792\n",
      "[5250]\ttraining's l2: 1.62976e-07\ttraining's RMSPE: 0.186738\tvalid_1's l2: 2.03059e-07\tvalid_1's RMSPE: 0.20956\n",
      "[5500]\ttraining's l2: 1.61423e-07\ttraining's RMSPE: 0.185846\tvalid_1's l2: 2.02602e-07\tvalid_1's RMSPE: 0.209324\n",
      "[5750]\ttraining's l2: 1.59875e-07\ttraining's RMSPE: 0.184953\tvalid_1's l2: 2.02058e-07\tvalid_1's RMSPE: 0.209043\n",
      "[6000]\ttraining's l2: 1.58486e-07\ttraining's RMSPE: 0.184148\tvalid_1's l2: 2.01875e-07\tvalid_1's RMSPE: 0.208948\n",
      "[6250]\ttraining's l2: 1.57159e-07\ttraining's RMSPE: 0.183375\tvalid_1's l2: 2.01725e-07\tvalid_1's RMSPE: 0.208871\n",
      "[6500]\ttraining's l2: 1.55928e-07\ttraining's RMSPE: 0.182656\tvalid_1's l2: 2.01693e-07\tvalid_1's RMSPE: 0.208854\n",
      "Early stopping, best iteration is:\n",
      "[6202]\ttraining's l2: 1.57393e-07\ttraining's RMSPE: 0.183512\tvalid_1's l2: 2.01575e-07\tvalid_1's RMSPE: 0.208793\n"
     ]
    },
    {
     "name": "stderr",
     "output_type": "stream",
     "text": [
      "1it [04:41, 281.26s/it]"
     ]
    },
    {
     "name": "stdout",
     "output_type": "stream",
     "text": [
      "model saved \n",
      "==================================\n",
      "Training until validation scores don't improve for 300 rounds\n",
      "[250]\ttraining's l2: 2.56019e-07\ttraining's RMSPE: 0.234407\tvalid_1's l2: 2.64673e-07\tvalid_1's RMSPE: 0.235966\n",
      "[500]\ttraining's l2: 2.26831e-07\ttraining's RMSPE: 0.220641\tvalid_1's l2: 2.39096e-07\tvalid_1's RMSPE: 0.224275\n",
      "[750]\ttraining's l2: 2.16677e-07\ttraining's RMSPE: 0.215646\tvalid_1's l2: 2.31311e-07\tvalid_1's RMSPE: 0.220594\n",
      "[1000]\ttraining's l2: 2.09407e-07\ttraining's RMSPE: 0.211998\tvalid_1's l2: 2.25622e-07\tvalid_1's RMSPE: 0.217864\n",
      "[1250]\ttraining's l2: 2.02944e-07\ttraining's RMSPE: 0.2087\tvalid_1's l2: 2.20641e-07\tvalid_1's RMSPE: 0.215446\n",
      "[1500]\ttraining's l2: 1.98116e-07\ttraining's RMSPE: 0.206203\tvalid_1's l2: 2.17295e-07\tvalid_1's RMSPE: 0.213806\n",
      "[1750]\ttraining's l2: 1.93985e-07\ttraining's RMSPE: 0.204042\tvalid_1's l2: 2.14631e-07\tvalid_1's RMSPE: 0.212491\n",
      "[2000]\ttraining's l2: 1.90358e-07\ttraining's RMSPE: 0.202125\tvalid_1's l2: 2.1247e-07\tvalid_1's RMSPE: 0.211419\n",
      "[2250]\ttraining's l2: 1.86908e-07\ttraining's RMSPE: 0.200285\tvalid_1's l2: 2.10335e-07\tvalid_1's RMSPE: 0.210354\n",
      "[2500]\ttraining's l2: 1.83825e-07\ttraining's RMSPE: 0.198627\tvalid_1's l2: 2.08579e-07\tvalid_1's RMSPE: 0.209474\n",
      "[2750]\ttraining's l2: 1.81258e-07\ttraining's RMSPE: 0.197235\tvalid_1's l2: 2.07533e-07\tvalid_1's RMSPE: 0.208948\n",
      "[3000]\ttraining's l2: 1.78818e-07\ttraining's RMSPE: 0.195903\tvalid_1's l2: 2.06299e-07\tvalid_1's RMSPE: 0.208326\n",
      "[3250]\ttraining's l2: 1.76521e-07\ttraining's RMSPE: 0.194641\tvalid_1's l2: 2.05144e-07\tvalid_1's RMSPE: 0.207742\n",
      "[3500]\ttraining's l2: 1.74397e-07\ttraining's RMSPE: 0.193466\tvalid_1's l2: 2.04073e-07\tvalid_1's RMSPE: 0.207199\n",
      "[3750]\ttraining's l2: 1.7245e-07\ttraining's RMSPE: 0.192383\tvalid_1's l2: 2.03305e-07\tvalid_1's RMSPE: 0.206809\n",
      "[4000]\ttraining's l2: 1.70368e-07\ttraining's RMSPE: 0.191218\tvalid_1's l2: 2.02334e-07\tvalid_1's RMSPE: 0.206315\n",
      "[4250]\ttraining's l2: 1.68641e-07\ttraining's RMSPE: 0.190247\tvalid_1's l2: 2.01819e-07\tvalid_1's RMSPE: 0.206052\n",
      "[4500]\ttraining's l2: 1.6696e-07\ttraining's RMSPE: 0.189296\tvalid_1's l2: 2.01148e-07\tvalid_1's RMSPE: 0.205709\n",
      "[4750]\ttraining's l2: 1.6519e-07\ttraining's RMSPE: 0.18829\tvalid_1's l2: 2.00452e-07\tvalid_1's RMSPE: 0.205353\n",
      "[5000]\ttraining's l2: 1.63641e-07\ttraining's RMSPE: 0.187405\tvalid_1's l2: 1.99993e-07\tvalid_1's RMSPE: 0.205117\n",
      "[5250]\ttraining's l2: 1.62085e-07\ttraining's RMSPE: 0.186512\tvalid_1's l2: 1.9947e-07\tvalid_1's RMSPE: 0.204849\n",
      "[5500]\ttraining's l2: 1.60588e-07\ttraining's RMSPE: 0.185649\tvalid_1's l2: 1.99035e-07\tvalid_1's RMSPE: 0.204626\n",
      "[5750]\ttraining's l2: 1.59045e-07\ttraining's RMSPE: 0.184755\tvalid_1's l2: 1.98449e-07\tvalid_1's RMSPE: 0.204324\n",
      "[6000]\ttraining's l2: 1.57583e-07\ttraining's RMSPE: 0.183904\tvalid_1's l2: 1.98087e-07\tvalid_1's RMSPE: 0.204138\n",
      "[6250]\ttraining's l2: 1.56257e-07\ttraining's RMSPE: 0.183128\tvalid_1's l2: 1.97734e-07\tvalid_1's RMSPE: 0.203956\n",
      "[6500]\ttraining's l2: 1.54864e-07\ttraining's RMSPE: 0.18231\tvalid_1's l2: 1.97274e-07\tvalid_1's RMSPE: 0.203718\n",
      "[6750]\ttraining's l2: 1.53629e-07\ttraining's RMSPE: 0.181582\tvalid_1's l2: 1.9701e-07\tvalid_1's RMSPE: 0.203582\n",
      "[7000]\ttraining's l2: 1.52236e-07\ttraining's RMSPE: 0.180756\tvalid_1's l2: 1.96511e-07\tvalid_1's RMSPE: 0.203324\n",
      "[7250]\ttraining's l2: 1.51001e-07\ttraining's RMSPE: 0.180022\tvalid_1's l2: 1.96172e-07\tvalid_1's RMSPE: 0.203148\n",
      "[7500]\ttraining's l2: 1.49731e-07\ttraining's RMSPE: 0.179264\tvalid_1's l2: 1.95742e-07\tvalid_1's RMSPE: 0.202926\n",
      "[7750]\ttraining's l2: 1.48573e-07\ttraining's RMSPE: 0.178569\tvalid_1's l2: 1.95419e-07\tvalid_1's RMSPE: 0.202758\n",
      "[8000]\ttraining's l2: 1.47403e-07\ttraining's RMSPE: 0.177864\tvalid_1's l2: 1.95024e-07\tvalid_1's RMSPE: 0.202553\n",
      "[8250]\ttraining's l2: 1.46315e-07\ttraining's RMSPE: 0.177207\tvalid_1's l2: 1.94749e-07\tvalid_1's RMSPE: 0.20241\n",
      "[8500]\ttraining's l2: 1.4512e-07\ttraining's RMSPE: 0.176481\tvalid_1's l2: 1.94476e-07\tvalid_1's RMSPE: 0.202269\n",
      "[8750]\ttraining's l2: 1.44001e-07\ttraining's RMSPE: 0.1758\tvalid_1's l2: 1.941e-07\tvalid_1's RMSPE: 0.202073\n",
      "[9000]\ttraining's l2: 1.42973e-07\ttraining's RMSPE: 0.175171\tvalid_1's l2: 1.93929e-07\tvalid_1's RMSPE: 0.201984\n",
      "[9250]\ttraining's l2: 1.42017e-07\ttraining's RMSPE: 0.174584\tvalid_1's l2: 1.93796e-07\tvalid_1's RMSPE: 0.201915\n",
      "[9500]\ttraining's l2: 1.41071e-07\ttraining's RMSPE: 0.174002\tvalid_1's l2: 1.9365e-07\tvalid_1's RMSPE: 0.201838\n",
      "[9750]\ttraining's l2: 1.40111e-07\ttraining's RMSPE: 0.173409\tvalid_1's l2: 1.93611e-07\tvalid_1's RMSPE: 0.201818\n",
      "[10000]\ttraining's l2: 1.39109e-07\ttraining's RMSPE: 0.172788\tvalid_1's l2: 1.9337e-07\tvalid_1's RMSPE: 0.201692\n",
      "Did not meet early stopping. Best iteration is:\n",
      "[10000]\ttraining's l2: 1.39109e-07\ttraining's RMSPE: 0.172788\tvalid_1's l2: 1.9337e-07\tvalid_1's RMSPE: 0.201692\n"
     ]
    },
    {
     "name": "stderr",
     "output_type": "stream",
     "text": [
      "2it [11:53, 370.31s/it]"
     ]
    },
    {
     "name": "stdout",
     "output_type": "stream",
     "text": [
      "model saved \n",
      "==================================\n",
      "Training until validation scores don't improve for 300 rounds\n",
      "[250]\ttraining's l2: 2.5684e-07\ttraining's RMSPE: 0.234579\tvalid_1's l2: 2.60139e-07\tvalid_1's RMSPE: 0.235795\n",
      "[500]\ttraining's l2: 2.27563e-07\ttraining's RMSPE: 0.220805\tvalid_1's l2: 2.31649e-07\tvalid_1's RMSPE: 0.222509\n",
      "[750]\ttraining's l2: 2.17093e-07\ttraining's RMSPE: 0.215665\tvalid_1's l2: 2.24129e-07\tvalid_1's RMSPE: 0.218868\n",
      "[1000]\ttraining's l2: 2.09694e-07\ttraining's RMSPE: 0.211958\tvalid_1's l2: 2.19408e-07\tvalid_1's RMSPE: 0.216551\n",
      "[1250]\ttraining's l2: 2.03928e-07\ttraining's RMSPE: 0.209024\tvalid_1's l2: 2.16486e-07\tvalid_1's RMSPE: 0.215104\n",
      "[1500]\ttraining's l2: 1.99292e-07\ttraining's RMSPE: 0.206634\tvalid_1's l2: 2.13805e-07\tvalid_1's RMSPE: 0.213767\n",
      "[1750]\ttraining's l2: 1.95094e-07\ttraining's RMSPE: 0.204446\tvalid_1's l2: 2.12074e-07\tvalid_1's RMSPE: 0.2129\n",
      "[2000]\ttraining's l2: 1.9136e-07\ttraining's RMSPE: 0.20248\tvalid_1's l2: 2.11072e-07\tvalid_1's RMSPE: 0.212397\n",
      "[2250]\ttraining's l2: 1.88042e-07\ttraining's RMSPE: 0.200717\tvalid_1's l2: 2.10277e-07\tvalid_1's RMSPE: 0.211996\n",
      "[2500]\ttraining's l2: 1.85127e-07\ttraining's RMSPE: 0.199156\tvalid_1's l2: 2.09849e-07\tvalid_1's RMSPE: 0.211781\n",
      "[2750]\ttraining's l2: 1.82562e-07\ttraining's RMSPE: 0.197771\tvalid_1's l2: 2.09245e-07\tvalid_1's RMSPE: 0.211476\n",
      "[3000]\ttraining's l2: 1.80026e-07\ttraining's RMSPE: 0.196393\tvalid_1's l2: 2.08222e-07\tvalid_1's RMSPE: 0.210958\n",
      "[3250]\ttraining's l2: 1.77871e-07\ttraining's RMSPE: 0.195214\tvalid_1's l2: 2.07847e-07\tvalid_1's RMSPE: 0.210768\n",
      "[3500]\ttraining's l2: 1.75746e-07\ttraining's RMSPE: 0.194044\tvalid_1's l2: 2.07115e-07\tvalid_1's RMSPE: 0.210397\n",
      "[3750]\ttraining's l2: 1.73707e-07\ttraining's RMSPE: 0.192915\tvalid_1's l2: 2.0759e-07\tvalid_1's RMSPE: 0.210638\n",
      "Early stopping, best iteration is:\n",
      "[3587]\ttraining's l2: 1.75053e-07\ttraining's RMSPE: 0.193661\tvalid_1's l2: 2.07047e-07\tvalid_1's RMSPE: 0.210362\n"
     ]
    },
    {
     "name": "stderr",
     "output_type": "stream",
     "text": [
      "3it [14:56, 284.72s/it]"
     ]
    },
    {
     "name": "stdout",
     "output_type": "stream",
     "text": [
      "model saved \n",
      "==================================\n",
      "Training until validation scores don't improve for 300 rounds\n",
      "[250]\ttraining's l2: 2.56362e-07\ttraining's RMSPE: 0.234313\tvalid_1's l2: 2.65097e-07\tvalid_1's RMSPE: 0.23847\n",
      "[500]\ttraining's l2: 2.27202e-07\ttraining's RMSPE: 0.220585\tvalid_1's l2: 2.37547e-07\tvalid_1's RMSPE: 0.225738\n",
      "[750]\ttraining's l2: 2.16999e-07\ttraining's RMSPE: 0.215575\tvalid_1's l2: 2.30933e-07\tvalid_1's RMSPE: 0.222573\n",
      "[1000]\ttraining's l2: 2.09473e-07\ttraining's RMSPE: 0.211804\tvalid_1's l2: 2.26133e-07\tvalid_1's RMSPE: 0.220248\n",
      "[1250]\ttraining's l2: 2.03711e-07\ttraining's RMSPE: 0.20887\tvalid_1's l2: 2.22395e-07\tvalid_1's RMSPE: 0.21842\n",
      "[1500]\ttraining's l2: 1.98691e-07\ttraining's RMSPE: 0.206281\tvalid_1's l2: 2.19605e-07\tvalid_1's RMSPE: 0.217046\n",
      "[1750]\ttraining's l2: 1.94126e-07\ttraining's RMSPE: 0.203897\tvalid_1's l2: 2.16602e-07\tvalid_1's RMSPE: 0.215557\n",
      "[2000]\ttraining's l2: 1.90394e-07\ttraining's RMSPE: 0.201927\tvalid_1's l2: 2.14998e-07\tvalid_1's RMSPE: 0.214757\n",
      "[2250]\ttraining's l2: 1.87174e-07\ttraining's RMSPE: 0.200213\tvalid_1's l2: 2.14066e-07\tvalid_1's RMSPE: 0.214291\n",
      "[2500]\ttraining's l2: 1.8449e-07\ttraining's RMSPE: 0.198772\tvalid_1's l2: 2.13261e-07\tvalid_1's RMSPE: 0.213888\n",
      "[2750]\ttraining's l2: 1.8177e-07\ttraining's RMSPE: 0.197301\tvalid_1's l2: 2.12006e-07\tvalid_1's RMSPE: 0.213258\n",
      "[3000]\ttraining's l2: 1.79428e-07\ttraining's RMSPE: 0.196026\tvalid_1's l2: 2.11529e-07\tvalid_1's RMSPE: 0.213017\n",
      "[3250]\ttraining's l2: 1.77011e-07\ttraining's RMSPE: 0.194702\tvalid_1's l2: 2.10893e-07\tvalid_1's RMSPE: 0.212697\n",
      "[3500]\ttraining's l2: 1.74916e-07\ttraining's RMSPE: 0.193546\tvalid_1's l2: 2.10351e-07\tvalid_1's RMSPE: 0.212423\n",
      "[3750]\ttraining's l2: 1.72963e-07\ttraining's RMSPE: 0.192462\tvalid_1's l2: 2.0992e-07\tvalid_1's RMSPE: 0.212206\n",
      "[4000]\ttraining's l2: 1.7102e-07\ttraining's RMSPE: 0.191378\tvalid_1's l2: 2.09397e-07\tvalid_1's RMSPE: 0.211941\n",
      "[4250]\ttraining's l2: 1.69303e-07\ttraining's RMSPE: 0.190415\tvalid_1's l2: 2.09018e-07\tvalid_1's RMSPE: 0.211749\n",
      "[4500]\ttraining's l2: 1.67498e-07\ttraining's RMSPE: 0.189397\tvalid_1's l2: 2.08594e-07\tvalid_1's RMSPE: 0.211535\n",
      "[4750]\ttraining's l2: 1.65847e-07\ttraining's RMSPE: 0.188462\tvalid_1's l2: 2.08106e-07\tvalid_1's RMSPE: 0.211287\n",
      "[5000]\ttraining's l2: 1.64066e-07\ttraining's RMSPE: 0.187447\tvalid_1's l2: 2.07483e-07\tvalid_1's RMSPE: 0.210971\n",
      "[5250]\ttraining's l2: 1.62624e-07\ttraining's RMSPE: 0.186621\tvalid_1's l2: 2.07125e-07\tvalid_1's RMSPE: 0.210789\n",
      "[5500]\ttraining's l2: 1.60995e-07\ttraining's RMSPE: 0.185684\tvalid_1's l2: 2.06698e-07\tvalid_1's RMSPE: 0.210571\n",
      "[5750]\ttraining's l2: 1.59496e-07\ttraining's RMSPE: 0.184818\tvalid_1's l2: 2.06106e-07\tvalid_1's RMSPE: 0.210269\n",
      "[6000]\ttraining's l2: 1.58034e-07\ttraining's RMSPE: 0.183969\tvalid_1's l2: 2.05943e-07\tvalid_1's RMSPE: 0.210186\n",
      "Early stopping, best iteration is:\n",
      "[5863]\ttraining's l2: 1.58757e-07\ttraining's RMSPE: 0.18439\tvalid_1's l2: 2.05785e-07\tvalid_1's RMSPE: 0.210105\n"
     ]
    },
    {
     "name": "stderr",
     "output_type": "stream",
     "text": [
      "4it [19:32, 281.11s/it]"
     ]
    },
    {
     "name": "stdout",
     "output_type": "stream",
     "text": [
      "model saved \n",
      "==================================\n",
      "Training until validation scores don't improve for 300 rounds\n",
      "[250]\ttraining's l2: 2.56482e-07\ttraining's RMSPE: 0.234388\tvalid_1's l2: 2.61167e-07\tvalid_1's RMSPE: 0.236511\n",
      "[500]\ttraining's l2: 2.27266e-07\ttraining's RMSPE: 0.220635\tvalid_1's l2: 2.33865e-07\tvalid_1's RMSPE: 0.223807\n",
      "[750]\ttraining's l2: 2.16785e-07\ttraining's RMSPE: 0.215487\tvalid_1's l2: 2.26028e-07\tvalid_1's RMSPE: 0.220026\n",
      "[1000]\ttraining's l2: 2.09446e-07\ttraining's RMSPE: 0.211808\tvalid_1's l2: 2.20871e-07\tvalid_1's RMSPE: 0.217501\n",
      "[1250]\ttraining's l2: 2.03533e-07\ttraining's RMSPE: 0.208797\tvalid_1's l2: 2.17128e-07\tvalid_1's RMSPE: 0.21565\n",
      "[1500]\ttraining's l2: 1.98866e-07\ttraining's RMSPE: 0.206389\tvalid_1's l2: 2.14585e-07\tvalid_1's RMSPE: 0.214384\n",
      "[1750]\ttraining's l2: 1.94573e-07\ttraining's RMSPE: 0.204149\tvalid_1's l2: 2.12358e-07\tvalid_1's RMSPE: 0.213268\n",
      "[2000]\ttraining's l2: 1.90655e-07\ttraining's RMSPE: 0.202084\tvalid_1's l2: 2.09823e-07\tvalid_1's RMSPE: 0.211991\n",
      "[2250]\ttraining's l2: 1.87554e-07\ttraining's RMSPE: 0.200433\tvalid_1's l2: 2.08173e-07\tvalid_1's RMSPE: 0.211156\n",
      "[2500]\ttraining's l2: 1.84606e-07\ttraining's RMSPE: 0.198852\tvalid_1's l2: 2.06735e-07\tvalid_1's RMSPE: 0.210426\n",
      "[2750]\ttraining's l2: 1.81966e-07\ttraining's RMSPE: 0.197425\tvalid_1's l2: 2.05583e-07\tvalid_1's RMSPE: 0.209839\n",
      "[3000]\ttraining's l2: 1.79542e-07\ttraining's RMSPE: 0.196106\tvalid_1's l2: 2.04589e-07\tvalid_1's RMSPE: 0.209331\n",
      "[3250]\ttraining's l2: 1.77273e-07\ttraining's RMSPE: 0.194862\tvalid_1's l2: 2.0367e-07\tvalid_1's RMSPE: 0.20886\n",
      "[3500]\ttraining's l2: 1.75151e-07\ttraining's RMSPE: 0.193693\tvalid_1's l2: 2.0297e-07\tvalid_1's RMSPE: 0.208501\n",
      "[3750]\ttraining's l2: 1.73181e-07\ttraining's RMSPE: 0.1926\tvalid_1's l2: 2.0238e-07\tvalid_1's RMSPE: 0.208198\n",
      "[4000]\ttraining's l2: 1.71295e-07\ttraining's RMSPE: 0.191549\tvalid_1's l2: 2.0186e-07\tvalid_1's RMSPE: 0.20793\n",
      "[4250]\ttraining's l2: 1.69472e-07\ttraining's RMSPE: 0.190527\tvalid_1's l2: 2.01223e-07\tvalid_1's RMSPE: 0.207602\n",
      "[4500]\ttraining's l2: 1.67602e-07\ttraining's RMSPE: 0.189472\tvalid_1's l2: 2.0045e-07\tvalid_1's RMSPE: 0.207202\n",
      "[4750]\ttraining's l2: 1.65851e-07\ttraining's RMSPE: 0.18848\tvalid_1's l2: 1.99928e-07\tvalid_1's RMSPE: 0.206932\n",
      "[5000]\ttraining's l2: 1.64094e-07\ttraining's RMSPE: 0.187479\tvalid_1's l2: 1.99165e-07\tvalid_1's RMSPE: 0.206537\n",
      "[5250]\ttraining's l2: 1.62564e-07\ttraining's RMSPE: 0.186603\tvalid_1's l2: 1.98854e-07\tvalid_1's RMSPE: 0.206376\n",
      "[5500]\ttraining's l2: 1.60957e-07\ttraining's RMSPE: 0.185679\tvalid_1's l2: 1.98329e-07\tvalid_1's RMSPE: 0.206104\n",
      "[5750]\ttraining's l2: 1.59476e-07\ttraining's RMSPE: 0.184822\tvalid_1's l2: 1.97723e-07\tvalid_1's RMSPE: 0.205788\n",
      "[6000]\ttraining's l2: 1.57947e-07\ttraining's RMSPE: 0.183934\tvalid_1's l2: 1.97123e-07\tvalid_1's RMSPE: 0.205476\n",
      "[6250]\ttraining's l2: 1.56512e-07\ttraining's RMSPE: 0.183097\tvalid_1's l2: 1.96937e-07\tvalid_1's RMSPE: 0.205379\n",
      "[6500]\ttraining's l2: 1.55106e-07\ttraining's RMSPE: 0.182273\tvalid_1's l2: 1.96524e-07\tvalid_1's RMSPE: 0.205164\n",
      "[6750]\ttraining's l2: 1.53784e-07\ttraining's RMSPE: 0.181494\tvalid_1's l2: 1.96253e-07\tvalid_1's RMSPE: 0.205022\n",
      "[7000]\ttraining's l2: 1.52469e-07\ttraining's RMSPE: 0.180716\tvalid_1's l2: 1.95824e-07\tvalid_1's RMSPE: 0.204798\n",
      "[7250]\ttraining's l2: 1.51143e-07\ttraining's RMSPE: 0.179929\tvalid_1's l2: 1.9535e-07\tvalid_1's RMSPE: 0.20455\n",
      "[7500]\ttraining's l2: 1.49966e-07\ttraining's RMSPE: 0.179227\tvalid_1's l2: 1.95234e-07\tvalid_1's RMSPE: 0.204489\n",
      "[7750]\ttraining's l2: 1.48813e-07\ttraining's RMSPE: 0.178537\tvalid_1's l2: 1.95101e-07\tvalid_1's RMSPE: 0.204419\n",
      "[8000]\ttraining's l2: 1.47598e-07\ttraining's RMSPE: 0.177806\tvalid_1's l2: 1.94742e-07\tvalid_1's RMSPE: 0.204231\n",
      "[8250]\ttraining's l2: 1.46462e-07\ttraining's RMSPE: 0.17712\tvalid_1's l2: 1.94347e-07\tvalid_1's RMSPE: 0.204024\n",
      "[8500]\ttraining's l2: 1.45342e-07\ttraining's RMSPE: 0.176442\tvalid_1's l2: 1.94175e-07\tvalid_1's RMSPE: 0.203933\n",
      "[8750]\ttraining's l2: 1.44272e-07\ttraining's RMSPE: 0.175792\tvalid_1's l2: 1.94013e-07\tvalid_1's RMSPE: 0.203848\n",
      "[9000]\ttraining's l2: 1.43238e-07\ttraining's RMSPE: 0.175161\tvalid_1's l2: 1.938e-07\tvalid_1's RMSPE: 0.203737\n",
      "[9250]\ttraining's l2: 1.4227e-07\ttraining's RMSPE: 0.174568\tvalid_1's l2: 1.93654e-07\tvalid_1's RMSPE: 0.20366\n",
      "[9500]\ttraining's l2: 1.41295e-07\ttraining's RMSPE: 0.173968\tvalid_1's l2: 1.93497e-07\tvalid_1's RMSPE: 0.203577\n",
      "[9750]\ttraining's l2: 1.40263e-07\ttraining's RMSPE: 0.173332\tvalid_1's l2: 1.93346e-07\tvalid_1's RMSPE: 0.203498\n",
      "[10000]\ttraining's l2: 1.39273e-07\ttraining's RMSPE: 0.172719\tvalid_1's l2: 1.93156e-07\tvalid_1's RMSPE: 0.203398\n",
      "Did not meet early stopping. Best iteration is:\n",
      "[10000]\ttraining's l2: 1.39273e-07\ttraining's RMSPE: 0.172719\tvalid_1's l2: 1.93156e-07\tvalid_1's RMSPE: 0.203398\n"
     ]
    },
    {
     "name": "stderr",
     "output_type": "stream",
     "text": [
      "5it [26:23, 328.11s/it]"
     ]
    },
    {
     "name": "stdout",
     "output_type": "stream",
     "text": [
      "model saved \n",
      "==================================\n",
      "Training until validation scores don't improve for 300 rounds\n",
      "[250]\ttraining's l2: 2.56358e-07\ttraining's RMSPE: 0.234257\tvalid_1's l2: 2.66623e-07\tvalid_1's RMSPE: 0.239653\n",
      "[500]\ttraining's l2: 2.27023e-07\ttraining's RMSPE: 0.220447\tvalid_1's l2: 2.41273e-07\tvalid_1's RMSPE: 0.227975\n",
      "[750]\ttraining's l2: 2.16691e-07\ttraining's RMSPE: 0.215372\tvalid_1's l2: 2.33678e-07\tvalid_1's RMSPE: 0.224359\n",
      "[1000]\ttraining's l2: 2.09243e-07\ttraining's RMSPE: 0.211638\tvalid_1's l2: 2.28124e-07\tvalid_1's RMSPE: 0.221676\n",
      "[1250]\ttraining's l2: 2.03449e-07\ttraining's RMSPE: 0.208688\tvalid_1's l2: 2.24418e-07\tvalid_1's RMSPE: 0.219868\n",
      "[1500]\ttraining's l2: 1.98411e-07\ttraining's RMSPE: 0.206087\tvalid_1's l2: 2.21319e-07\tvalid_1's RMSPE: 0.218345\n",
      "[1750]\ttraining's l2: 1.94477e-07\ttraining's RMSPE: 0.204034\tvalid_1's l2: 2.192e-07\tvalid_1's RMSPE: 0.217297\n",
      "[2000]\ttraining's l2: 1.90711e-07\ttraining's RMSPE: 0.202049\tvalid_1's l2: 2.17234e-07\tvalid_1's RMSPE: 0.21632\n",
      "[2250]\ttraining's l2: 1.87389e-07\ttraining's RMSPE: 0.200281\tvalid_1's l2: 2.15423e-07\tvalid_1's RMSPE: 0.215417\n",
      "[2500]\ttraining's l2: 1.84474e-07\ttraining's RMSPE: 0.198718\tvalid_1's l2: 2.14211e-07\tvalid_1's RMSPE: 0.21481\n",
      "[2750]\ttraining's l2: 1.81461e-07\ttraining's RMSPE: 0.197088\tvalid_1's l2: 2.12738e-07\tvalid_1's RMSPE: 0.21407\n",
      "[3000]\ttraining's l2: 1.78974e-07\ttraining's RMSPE: 0.195733\tvalid_1's l2: 2.11885e-07\tvalid_1's RMSPE: 0.213641\n",
      "[3250]\ttraining's l2: 1.76734e-07\ttraining's RMSPE: 0.194504\tvalid_1's l2: 2.1116e-07\tvalid_1's RMSPE: 0.213275\n",
      "[3500]\ttraining's l2: 1.74621e-07\ttraining's RMSPE: 0.193338\tvalid_1's l2: 2.10518e-07\tvalid_1's RMSPE: 0.21295\n",
      "[3750]\ttraining's l2: 1.72508e-07\ttraining's RMSPE: 0.192164\tvalid_1's l2: 2.09679e-07\tvalid_1's RMSPE: 0.212526\n",
      "[4000]\ttraining's l2: 1.70557e-07\ttraining's RMSPE: 0.191075\tvalid_1's l2: 2.09085e-07\tvalid_1's RMSPE: 0.212224\n",
      "[4250]\ttraining's l2: 1.68818e-07\ttraining's RMSPE: 0.190098\tvalid_1's l2: 2.08724e-07\tvalid_1's RMSPE: 0.212041\n",
      "[4500]\ttraining's l2: 1.6696e-07\ttraining's RMSPE: 0.189049\tvalid_1's l2: 2.08128e-07\tvalid_1's RMSPE: 0.211738\n",
      "[4750]\ttraining's l2: 1.65362e-07\ttraining's RMSPE: 0.188142\tvalid_1's l2: 2.07889e-07\tvalid_1's RMSPE: 0.211616\n",
      "[5000]\ttraining's l2: 1.63858e-07\ttraining's RMSPE: 0.187285\tvalid_1's l2: 2.0753e-07\tvalid_1's RMSPE: 0.211434\n",
      "[5250]\ttraining's l2: 1.62252e-07\ttraining's RMSPE: 0.186364\tvalid_1's l2: 2.07022e-07\tvalid_1's RMSPE: 0.211174\n",
      "[5500]\ttraining's l2: 1.60654e-07\ttraining's RMSPE: 0.185444\tvalid_1's l2: 2.06548e-07\tvalid_1's RMSPE: 0.210933\n",
      "[5750]\ttraining's l2: 1.59181e-07\ttraining's RMSPE: 0.184592\tvalid_1's l2: 2.06248e-07\tvalid_1's RMSPE: 0.21078\n",
      "[6000]\ttraining's l2: 1.57765e-07\ttraining's RMSPE: 0.18377\tvalid_1's l2: 2.05991e-07\tvalid_1's RMSPE: 0.210648\n",
      "[6250]\ttraining's l2: 1.56382e-07\ttraining's RMSPE: 0.182963\tvalid_1's l2: 2.05615e-07\tvalid_1's RMSPE: 0.210456\n",
      "[6500]\ttraining's l2: 1.5498e-07\ttraining's RMSPE: 0.18214\tvalid_1's l2: 2.05115e-07\tvalid_1's RMSPE: 0.2102\n",
      "[6750]\ttraining's l2: 1.53745e-07\ttraining's RMSPE: 0.181413\tvalid_1's l2: 2.05055e-07\tvalid_1's RMSPE: 0.210169\n",
      "[7000]\ttraining's l2: 1.52457e-07\ttraining's RMSPE: 0.180651\tvalid_1's l2: 2.04773e-07\tvalid_1's RMSPE: 0.210024\n",
      "[7250]\ttraining's l2: 1.51247e-07\ttraining's RMSPE: 0.179933\tvalid_1's l2: 2.04533e-07\tvalid_1's RMSPE: 0.209902\n",
      "[7500]\ttraining's l2: 1.49969e-07\ttraining's RMSPE: 0.179172\tvalid_1's l2: 2.04336e-07\tvalid_1's RMSPE: 0.2098\n",
      "[7750]\ttraining's l2: 1.48808e-07\ttraining's RMSPE: 0.178476\tvalid_1's l2: 2.04181e-07\tvalid_1's RMSPE: 0.20972\n",
      "[8000]\ttraining's l2: 1.47641e-07\ttraining's RMSPE: 0.177775\tvalid_1's l2: 2.04072e-07\tvalid_1's RMSPE: 0.209665\n",
      "[8250]\ttraining's l2: 1.4656e-07\ttraining's RMSPE: 0.177124\tvalid_1's l2: 2.0386e-07\tvalid_1's RMSPE: 0.209556\n",
      "[8500]\ttraining's l2: 1.45407e-07\ttraining's RMSPE: 0.176425\tvalid_1's l2: 2.03547e-07\tvalid_1's RMSPE: 0.209395\n",
      "[8750]\ttraining's l2: 1.44278e-07\ttraining's RMSPE: 0.175739\tvalid_1's l2: 2.0333e-07\tvalid_1's RMSPE: 0.209283\n",
      "[9000]\ttraining's l2: 1.4325e-07\ttraining's RMSPE: 0.175112\tvalid_1's l2: 2.03255e-07\tvalid_1's RMSPE: 0.209245\n",
      "Early stopping, best iteration is:\n",
      "[8948]\ttraining's l2: 1.43443e-07\ttraining's RMSPE: 0.17523\tvalid_1's l2: 2.03204e-07\tvalid_1's RMSPE: 0.209218\n"
     ]
    },
    {
     "name": "stderr",
     "output_type": "stream",
     "text": [
      "6it [32:26, 339.93s/it]"
     ]
    },
    {
     "name": "stdout",
     "output_type": "stream",
     "text": [
      "model saved \n",
      "==================================\n",
      "Training until validation scores don't improve for 300 rounds\n",
      "[250]\ttraining's l2: 2.56571e-07\ttraining's RMSPE: 0.234457\tvalid_1's l2: 2.6022e-07\tvalid_1's RMSPE: 0.235823\n",
      "[500]\ttraining's l2: 2.27201e-07\ttraining's RMSPE: 0.22063\tvalid_1's l2: 2.33881e-07\tvalid_1's RMSPE: 0.22357\n",
      "[750]\ttraining's l2: 2.16975e-07\ttraining's RMSPE: 0.215608\tvalid_1's l2: 2.26223e-07\tvalid_1's RMSPE: 0.219879\n",
      "[1000]\ttraining's l2: 2.09329e-07\ttraining's RMSPE: 0.211775\tvalid_1's l2: 2.20507e-07\tvalid_1's RMSPE: 0.217084\n",
      "[1250]\ttraining's l2: 2.03472e-07\ttraining's RMSPE: 0.208791\tvalid_1's l2: 2.16438e-07\tvalid_1's RMSPE: 0.215071\n",
      "[1500]\ttraining's l2: 1.98373e-07\ttraining's RMSPE: 0.206158\tvalid_1's l2: 2.12747e-07\tvalid_1's RMSPE: 0.21323\n",
      "[1750]\ttraining's l2: 1.94201e-07\ttraining's RMSPE: 0.203979\tvalid_1's l2: 2.10112e-07\tvalid_1's RMSPE: 0.211905\n",
      "[2000]\ttraining's l2: 1.90561e-07\ttraining's RMSPE: 0.202058\tvalid_1's l2: 2.07941e-07\tvalid_1's RMSPE: 0.210807\n",
      "[2250]\ttraining's l2: 1.87126e-07\ttraining's RMSPE: 0.200229\tvalid_1's l2: 2.05918e-07\tvalid_1's RMSPE: 0.209779\n",
      "[2500]\ttraining's l2: 1.84334e-07\ttraining's RMSPE: 0.198729\tvalid_1's l2: 2.04495e-07\tvalid_1's RMSPE: 0.209053\n",
      "[2750]\ttraining's l2: 1.81769e-07\ttraining's RMSPE: 0.197342\tvalid_1's l2: 2.03262e-07\tvalid_1's RMSPE: 0.208422\n",
      "[3000]\ttraining's l2: 1.79534e-07\ttraining's RMSPE: 0.196125\tvalid_1's l2: 2.0232e-07\tvalid_1's RMSPE: 0.207938\n",
      "[3250]\ttraining's l2: 1.7707e-07\ttraining's RMSPE: 0.194774\tvalid_1's l2: 2.01142e-07\tvalid_1's RMSPE: 0.207332\n",
      "[3500]\ttraining's l2: 1.74761e-07\ttraining's RMSPE: 0.1935\tvalid_1's l2: 2.00186e-07\tvalid_1's RMSPE: 0.206839\n",
      "[3750]\ttraining's l2: 1.72755e-07\ttraining's RMSPE: 0.192386\tvalid_1's l2: 1.99405e-07\tvalid_1's RMSPE: 0.206435\n",
      "[4000]\ttraining's l2: 1.70973e-07\ttraining's RMSPE: 0.191392\tvalid_1's l2: 1.98773e-07\tvalid_1's RMSPE: 0.206108\n",
      "[4250]\ttraining's l2: 1.69229e-07\ttraining's RMSPE: 0.190413\tvalid_1's l2: 1.9817e-07\tvalid_1's RMSPE: 0.205795\n",
      "[4500]\ttraining's l2: 1.67407e-07\ttraining's RMSPE: 0.189385\tvalid_1's l2: 1.97449e-07\tvalid_1's RMSPE: 0.20542\n",
      "[4750]\ttraining's l2: 1.65666e-07\ttraining's RMSPE: 0.188398\tvalid_1's l2: 1.96751e-07\tvalid_1's RMSPE: 0.205057\n",
      "[5000]\ttraining's l2: 1.63964e-07\ttraining's RMSPE: 0.187428\tvalid_1's l2: 1.96045e-07\tvalid_1's RMSPE: 0.204689\n",
      "[5250]\ttraining's l2: 1.6248e-07\ttraining's RMSPE: 0.186578\tvalid_1's l2: 1.9558e-07\tvalid_1's RMSPE: 0.204446\n",
      "[5500]\ttraining's l2: 1.61091e-07\ttraining's RMSPE: 0.185778\tvalid_1's l2: 1.95256e-07\tvalid_1's RMSPE: 0.204276\n",
      "[5750]\ttraining's l2: 1.59568e-07\ttraining's RMSPE: 0.184898\tvalid_1's l2: 1.94704e-07\tvalid_1's RMSPE: 0.203987\n",
      "[6000]\ttraining's l2: 1.58104e-07\ttraining's RMSPE: 0.184048\tvalid_1's l2: 1.94236e-07\tvalid_1's RMSPE: 0.203742\n",
      "[6250]\ttraining's l2: 1.56708e-07\ttraining's RMSPE: 0.183234\tvalid_1's l2: 1.93826e-07\tvalid_1's RMSPE: 0.203527\n",
      "[6500]\ttraining's l2: 1.55389e-07\ttraining's RMSPE: 0.182461\tvalid_1's l2: 1.9343e-07\tvalid_1's RMSPE: 0.203319\n",
      "[6750]\ttraining's l2: 1.54076e-07\ttraining's RMSPE: 0.181688\tvalid_1's l2: 1.93063e-07\tvalid_1's RMSPE: 0.203126\n",
      "[7000]\ttraining's l2: 1.5285e-07\ttraining's RMSPE: 0.180964\tvalid_1's l2: 1.92728e-07\tvalid_1's RMSPE: 0.202949\n",
      "[7250]\ttraining's l2: 1.51609e-07\ttraining's RMSPE: 0.180228\tvalid_1's l2: 1.92402e-07\tvalid_1's RMSPE: 0.202778\n",
      "[7500]\ttraining's l2: 1.50254e-07\ttraining's RMSPE: 0.179421\tvalid_1's l2: 1.91941e-07\tvalid_1's RMSPE: 0.202535\n",
      "[7750]\ttraining's l2: 1.49031e-07\ttraining's RMSPE: 0.178689\tvalid_1's l2: 1.91572e-07\tvalid_1's RMSPE: 0.20234\n",
      "[8000]\ttraining's l2: 1.47902e-07\ttraining's RMSPE: 0.178011\tvalid_1's l2: 1.91311e-07\tvalid_1's RMSPE: 0.202202\n",
      "[8250]\ttraining's l2: 1.46798e-07\ttraining's RMSPE: 0.177346\tvalid_1's l2: 1.91031e-07\tvalid_1's RMSPE: 0.202054\n",
      "[8500]\ttraining's l2: 1.45718e-07\ttraining's RMSPE: 0.176692\tvalid_1's l2: 1.90793e-07\tvalid_1's RMSPE: 0.201928\n",
      "[8750]\ttraining's l2: 1.44653e-07\ttraining's RMSPE: 0.176045\tvalid_1's l2: 1.90585e-07\tvalid_1's RMSPE: 0.201818\n",
      "[9000]\ttraining's l2: 1.43532e-07\ttraining's RMSPE: 0.175361\tvalid_1's l2: 1.90281e-07\tvalid_1's RMSPE: 0.201657\n",
      "[9250]\ttraining's l2: 1.42432e-07\ttraining's RMSPE: 0.174688\tvalid_1's l2: 1.90024e-07\tvalid_1's RMSPE: 0.201521\n",
      "[9500]\ttraining's l2: 1.41444e-07\ttraining's RMSPE: 0.174081\tvalid_1's l2: 1.89883e-07\tvalid_1's RMSPE: 0.201446\n",
      "[9750]\ttraining's l2: 1.40432e-07\ttraining's RMSPE: 0.173458\tvalid_1's l2: 1.89702e-07\tvalid_1's RMSPE: 0.20135\n",
      "[10000]\ttraining's l2: 1.39428e-07\ttraining's RMSPE: 0.172836\tvalid_1's l2: 1.89455e-07\tvalid_1's RMSPE: 0.201219\n",
      "Did not meet early stopping. Best iteration is:\n",
      "[10000]\ttraining's l2: 1.39428e-07\ttraining's RMSPE: 0.172836\tvalid_1's l2: 1.89455e-07\tvalid_1's RMSPE: 0.201219\n"
     ]
    },
    {
     "name": "stderr",
     "output_type": "stream",
     "text": [
      "7it [39:01, 357.80s/it]"
     ]
    },
    {
     "name": "stdout",
     "output_type": "stream",
     "text": [
      "model saved \n",
      "==================================\n",
      "Training until validation scores don't improve for 300 rounds\n",
      "[250]\ttraining's l2: 2.56124e-07\ttraining's RMSPE: 0.23447\tvalid_1's l2: 2.69257e-07\tvalid_1's RMSPE: 0.237871\n",
      "[500]\ttraining's l2: 2.271e-07\ttraining's RMSPE: 0.220785\tvalid_1's l2: 2.41583e-07\tvalid_1's RMSPE: 0.225316\n",
      "[750]\ttraining's l2: 2.1666e-07\ttraining's RMSPE: 0.215651\tvalid_1's l2: 2.33539e-07\tvalid_1's RMSPE: 0.221532\n",
      "[1000]\ttraining's l2: 2.09487e-07\ttraining's RMSPE: 0.212051\tvalid_1's l2: 2.28901e-07\tvalid_1's RMSPE: 0.219322\n",
      "[1250]\ttraining's l2: 2.03422e-07\ttraining's RMSPE: 0.208958\tvalid_1's l2: 2.25352e-07\tvalid_1's RMSPE: 0.217615\n",
      "[1500]\ttraining's l2: 1.98454e-07\ttraining's RMSPE: 0.206391\tvalid_1's l2: 2.22436e-07\tvalid_1's RMSPE: 0.216203\n",
      "[1750]\ttraining's l2: 1.93786e-07\ttraining's RMSPE: 0.203949\tvalid_1's l2: 2.19707e-07\tvalid_1's RMSPE: 0.214872\n",
      "[2000]\ttraining's l2: 1.90364e-07\ttraining's RMSPE: 0.202141\tvalid_1's l2: 2.18003e-07\tvalid_1's RMSPE: 0.214037\n",
      "[2250]\ttraining's l2: 1.86841e-07\ttraining's RMSPE: 0.200261\tvalid_1's l2: 2.15712e-07\tvalid_1's RMSPE: 0.212909\n",
      "[2500]\ttraining's l2: 1.8387e-07\ttraining's RMSPE: 0.198663\tvalid_1's l2: 2.14419e-07\tvalid_1's RMSPE: 0.21227\n",
      "[2750]\ttraining's l2: 1.81202e-07\ttraining's RMSPE: 0.197216\tvalid_1's l2: 2.13608e-07\tvalid_1's RMSPE: 0.211869\n",
      "[3000]\ttraining's l2: 1.787e-07\ttraining's RMSPE: 0.19585\tvalid_1's l2: 2.12534e-07\tvalid_1's RMSPE: 0.211335\n",
      "[3250]\ttraining's l2: 1.76558e-07\ttraining's RMSPE: 0.194673\tvalid_1's l2: 2.12032e-07\tvalid_1's RMSPE: 0.211086\n",
      "[3500]\ttraining's l2: 1.74502e-07\ttraining's RMSPE: 0.193536\tvalid_1's l2: 2.11012e-07\tvalid_1's RMSPE: 0.210577\n",
      "[3750]\ttraining's l2: 1.72658e-07\ttraining's RMSPE: 0.192511\tvalid_1's l2: 2.10913e-07\tvalid_1's RMSPE: 0.210528\n",
      "[4000]\ttraining's l2: 1.70803e-07\ttraining's RMSPE: 0.191474\tvalid_1's l2: 2.10399e-07\tvalid_1's RMSPE: 0.210271\n",
      "[4250]\ttraining's l2: 1.68897e-07\ttraining's RMSPE: 0.190403\tvalid_1's l2: 2.09807e-07\tvalid_1's RMSPE: 0.209975\n",
      "[4500]\ttraining's l2: 1.67101e-07\ttraining's RMSPE: 0.189387\tvalid_1's l2: 2.09074e-07\tvalid_1's RMSPE: 0.209608\n",
      "[4750]\ttraining's l2: 1.65436e-07\ttraining's RMSPE: 0.188441\tvalid_1's l2: 2.08561e-07\tvalid_1's RMSPE: 0.209351\n",
      "[5000]\ttraining's l2: 1.63664e-07\ttraining's RMSPE: 0.187429\tvalid_1's l2: 2.07707e-07\tvalid_1's RMSPE: 0.208922\n",
      "[5250]\ttraining's l2: 1.62084e-07\ttraining's RMSPE: 0.186523\tvalid_1's l2: 2.07127e-07\tvalid_1's RMSPE: 0.20863\n",
      "[5500]\ttraining's l2: 1.60464e-07\ttraining's RMSPE: 0.185588\tvalid_1's l2: 2.06812e-07\tvalid_1's RMSPE: 0.208471\n",
      "[5750]\ttraining's l2: 1.59003e-07\ttraining's RMSPE: 0.184741\tvalid_1's l2: 2.06612e-07\tvalid_1's RMSPE: 0.20837\n",
      "[6000]\ttraining's l2: 1.57604e-07\ttraining's RMSPE: 0.183927\tvalid_1's l2: 2.06218e-07\tvalid_1's RMSPE: 0.208171\n",
      "[6250]\ttraining's l2: 1.56212e-07\ttraining's RMSPE: 0.183113\tvalid_1's l2: 2.06045e-07\tvalid_1's RMSPE: 0.208084\n",
      "[6500]\ttraining's l2: 1.54894e-07\ttraining's RMSPE: 0.182339\tvalid_1's l2: 2.0572e-07\tvalid_1's RMSPE: 0.20792\n",
      "[6750]\ttraining's l2: 1.53577e-07\ttraining's RMSPE: 0.181562\tvalid_1's l2: 2.05331e-07\tvalid_1's RMSPE: 0.207724\n",
      "[7000]\ttraining's l2: 1.52363e-07\ttraining's RMSPE: 0.180843\tvalid_1's l2: 2.05132e-07\tvalid_1's RMSPE: 0.207623\n",
      "[7250]\ttraining's l2: 1.51114e-07\ttraining's RMSPE: 0.1801\tvalid_1's l2: 2.04851e-07\tvalid_1's RMSPE: 0.207481\n",
      "[7500]\ttraining's l2: 1.4988e-07\ttraining's RMSPE: 0.179363\tvalid_1's l2: 2.0464e-07\tvalid_1's RMSPE: 0.207373\n",
      "[7750]\ttraining's l2: 1.48762e-07\ttraining's RMSPE: 0.178693\tvalid_1's l2: 2.04707e-07\tvalid_1's RMSPE: 0.207407\n",
      "[8000]\ttraining's l2: 1.47571e-07\ttraining's RMSPE: 0.177976\tvalid_1's l2: 2.04261e-07\tvalid_1's RMSPE: 0.207181\n",
      "[8250]\ttraining's l2: 1.46539e-07\ttraining's RMSPE: 0.177353\tvalid_1's l2: 2.04474e-07\tvalid_1's RMSPE: 0.207289\n",
      "Early stopping, best iteration is:\n",
      "[8060]\ttraining's l2: 1.47326e-07\ttraining's RMSPE: 0.177828\tvalid_1's l2: 2.04193e-07\tvalid_1's RMSPE: 0.207147\n"
     ]
    },
    {
     "name": "stderr",
     "output_type": "stream",
     "text": [
      "8it [44:25, 347.09s/it]"
     ]
    },
    {
     "name": "stdout",
     "output_type": "stream",
     "text": [
      "model saved \n",
      "==================================\n",
      "Training until validation scores don't improve for 300 rounds\n",
      "[250]\ttraining's l2: 2.56546e-07\ttraining's RMSPE: 0.234137\tvalid_1's l2: 2.96409e-07\tvalid_1's RMSPE: 0.254658\n",
      "[500]\ttraining's l2: 2.27346e-07\ttraining's RMSPE: 0.22041\tvalid_1's l2: 2.65016e-07\tvalid_1's RMSPE: 0.240795\n",
      "[750]\ttraining's l2: 2.17035e-07\ttraining's RMSPE: 0.215354\tvalid_1's l2: 2.54846e-07\tvalid_1's RMSPE: 0.23613\n",
      "[1000]\ttraining's l2: 2.09635e-07\ttraining's RMSPE: 0.211651\tvalid_1's l2: 2.50333e-07\tvalid_1's RMSPE: 0.23403\n",
      "[1250]\ttraining's l2: 2.03626e-07\ttraining's RMSPE: 0.208595\tvalid_1's l2: 2.47344e-07\tvalid_1's RMSPE: 0.232628\n",
      "[1500]\ttraining's l2: 1.98429e-07\ttraining's RMSPE: 0.205916\tvalid_1's l2: 2.43839e-07\tvalid_1's RMSPE: 0.230974\n",
      "[1750]\ttraining's l2: 1.94238e-07\ttraining's RMSPE: 0.20373\tvalid_1's l2: 2.41385e-07\tvalid_1's RMSPE: 0.229809\n",
      "[2000]\ttraining's l2: 1.9068e-07\ttraining's RMSPE: 0.201855\tvalid_1's l2: 2.40519e-07\tvalid_1's RMSPE: 0.229396\n",
      "[2250]\ttraining's l2: 1.87399e-07\ttraining's RMSPE: 0.200111\tvalid_1's l2: 2.38916e-07\tvalid_1's RMSPE: 0.22863\n",
      "[2500]\ttraining's l2: 1.8462e-07\ttraining's RMSPE: 0.198622\tvalid_1's l2: 2.38012e-07\tvalid_1's RMSPE: 0.228198\n",
      "[2750]\ttraining's l2: 1.82073e-07\ttraining's RMSPE: 0.197247\tvalid_1's l2: 2.36995e-07\tvalid_1's RMSPE: 0.227709\n",
      "[3000]\ttraining's l2: 1.79368e-07\ttraining's RMSPE: 0.195776\tvalid_1's l2: 2.36347e-07\tvalid_1's RMSPE: 0.227398\n",
      "[3250]\ttraining's l2: 1.77073e-07\ttraining's RMSPE: 0.19452\tvalid_1's l2: 2.35613e-07\tvalid_1's RMSPE: 0.227045\n",
      "[3500]\ttraining's l2: 1.75007e-07\ttraining's RMSPE: 0.193381\tvalid_1's l2: 2.35361e-07\tvalid_1's RMSPE: 0.226923\n",
      "[3750]\ttraining's l2: 1.7313e-07\ttraining's RMSPE: 0.192342\tvalid_1's l2: 2.34846e-07\tvalid_1's RMSPE: 0.226675\n",
      "[4000]\ttraining's l2: 1.70977e-07\ttraining's RMSPE: 0.191142\tvalid_1's l2: 2.34128e-07\tvalid_1's RMSPE: 0.226328\n",
      "[4250]\ttraining's l2: 1.69242e-07\ttraining's RMSPE: 0.19017\tvalid_1's l2: 2.33945e-07\tvalid_1's RMSPE: 0.22624\n",
      "[4500]\ttraining's l2: 1.67463e-07\ttraining's RMSPE: 0.189168\tvalid_1's l2: 2.33547e-07\tvalid_1's RMSPE: 0.226047\n",
      "[4750]\ttraining's l2: 1.65723e-07\ttraining's RMSPE: 0.188182\tvalid_1's l2: 2.33531e-07\tvalid_1's RMSPE: 0.226039\n",
      "Early stopping, best iteration is:\n",
      "[4536]\ttraining's l2: 1.67143e-07\ttraining's RMSPE: 0.188987\tvalid_1's l2: 2.33291e-07\tvalid_1's RMSPE: 0.225923\n"
     ]
    },
    {
     "name": "stderr",
     "output_type": "stream",
     "text": [
      "9it [47:54, 303.81s/it]"
     ]
    },
    {
     "name": "stdout",
     "output_type": "stream",
     "text": [
      "model saved \n",
      "==================================\n",
      "Training until validation scores don't improve for 300 rounds\n",
      "[250]\ttraining's l2: 2.56886e-07\ttraining's RMSPE: 0.234533\tvalid_1's l2: 2.59258e-07\tvalid_1's RMSPE: 0.236001\n",
      "[500]\ttraining's l2: 2.27592e-07\ttraining's RMSPE: 0.220756\tvalid_1's l2: 2.33083e-07\tvalid_1's RMSPE: 0.22377\n",
      "[750]\ttraining's l2: 2.1714e-07\ttraining's RMSPE: 0.215627\tvalid_1's l2: 2.26078e-07\tvalid_1's RMSPE: 0.220382\n",
      "[1000]\ttraining's l2: 2.09393e-07\ttraining's RMSPE: 0.211746\tvalid_1's l2: 2.20657e-07\tvalid_1's RMSPE: 0.217724\n",
      "[1250]\ttraining's l2: 2.03578e-07\ttraining's RMSPE: 0.208785\tvalid_1's l2: 2.1716e-07\tvalid_1's RMSPE: 0.215992\n",
      "[1500]\ttraining's l2: 1.98441e-07\ttraining's RMSPE: 0.206134\tvalid_1's l2: 2.14097e-07\tvalid_1's RMSPE: 0.214463\n",
      "[1750]\ttraining's l2: 1.94335e-07\ttraining's RMSPE: 0.20399\tvalid_1's l2: 2.11717e-07\tvalid_1's RMSPE: 0.213268\n",
      "[2000]\ttraining's l2: 1.90866e-07\ttraining's RMSPE: 0.202162\tvalid_1's l2: 2.09952e-07\tvalid_1's RMSPE: 0.212377\n",
      "[2250]\ttraining's l2: 1.87395e-07\ttraining's RMSPE: 0.200315\tvalid_1's l2: 2.07947e-07\tvalid_1's RMSPE: 0.21136\n",
      "[2500]\ttraining's l2: 1.84554e-07\ttraining's RMSPE: 0.19879\tvalid_1's l2: 2.06656e-07\tvalid_1's RMSPE: 0.210703\n",
      "[2750]\ttraining's l2: 1.81806e-07\ttraining's RMSPE: 0.197305\tvalid_1's l2: 2.05373e-07\tvalid_1's RMSPE: 0.210048\n",
      "[3000]\ttraining's l2: 1.79267e-07\ttraining's RMSPE: 0.195923\tvalid_1's l2: 2.04613e-07\tvalid_1's RMSPE: 0.209659\n",
      "[3250]\ttraining's l2: 1.76861e-07\ttraining's RMSPE: 0.194603\tvalid_1's l2: 2.03449e-07\tvalid_1's RMSPE: 0.209062\n",
      "[3500]\ttraining's l2: 1.74807e-07\ttraining's RMSPE: 0.19347\tvalid_1's l2: 2.02778e-07\tvalid_1's RMSPE: 0.208717\n",
      "[3750]\ttraining's l2: 1.72875e-07\ttraining's RMSPE: 0.192398\tvalid_1's l2: 2.02234e-07\tvalid_1's RMSPE: 0.208437\n",
      "[4000]\ttraining's l2: 1.70977e-07\ttraining's RMSPE: 0.191339\tvalid_1's l2: 2.01511e-07\tvalid_1's RMSPE: 0.208064\n",
      "[4250]\ttraining's l2: 1.69171e-07\ttraining's RMSPE: 0.190326\tvalid_1's l2: 2.0108e-07\tvalid_1's RMSPE: 0.207841\n",
      "[4500]\ttraining's l2: 1.67471e-07\ttraining's RMSPE: 0.189367\tvalid_1's l2: 2.00584e-07\tvalid_1's RMSPE: 0.207585\n",
      "[4750]\ttraining's l2: 1.65724e-07\ttraining's RMSPE: 0.188377\tvalid_1's l2: 2.00319e-07\tvalid_1's RMSPE: 0.207447\n",
      "[5000]\ttraining's l2: 1.64144e-07\ttraining's RMSPE: 0.187476\tvalid_1's l2: 2.00022e-07\tvalid_1's RMSPE: 0.207294\n",
      "[5250]\ttraining's l2: 1.6261e-07\ttraining's RMSPE: 0.186598\tvalid_1's l2: 1.99761e-07\tvalid_1's RMSPE: 0.207158\n",
      "[5500]\ttraining's l2: 1.61036e-07\ttraining's RMSPE: 0.185693\tvalid_1's l2: 1.99363e-07\tvalid_1's RMSPE: 0.206952\n",
      "[5750]\ttraining's l2: 1.5949e-07\ttraining's RMSPE: 0.184799\tvalid_1's l2: 1.98773e-07\tvalid_1's RMSPE: 0.206645\n",
      "[6000]\ttraining's l2: 1.58072e-07\ttraining's RMSPE: 0.183976\tvalid_1's l2: 1.9865e-07\tvalid_1's RMSPE: 0.206581\n",
      "[6250]\ttraining's l2: 1.5669e-07\ttraining's RMSPE: 0.18317\tvalid_1's l2: 1.9811e-07\tvalid_1's RMSPE: 0.2063\n",
      "[6500]\ttraining's l2: 1.55379e-07\ttraining's RMSPE: 0.182402\tvalid_1's l2: 1.97692e-07\tvalid_1's RMSPE: 0.206083\n",
      "[6750]\ttraining's l2: 1.54094e-07\ttraining's RMSPE: 0.181647\tvalid_1's l2: 1.97536e-07\tvalid_1's RMSPE: 0.206001\n",
      "[7000]\ttraining's l2: 1.52824e-07\ttraining's RMSPE: 0.180896\tvalid_1's l2: 1.97195e-07\tvalid_1's RMSPE: 0.205824\n",
      "[7250]\ttraining's l2: 1.5164e-07\ttraining's RMSPE: 0.180194\tvalid_1's l2: 1.96931e-07\tvalid_1's RMSPE: 0.205685\n",
      "[7500]\ttraining's l2: 1.50474e-07\ttraining's RMSPE: 0.1795\tvalid_1's l2: 1.96747e-07\tvalid_1's RMSPE: 0.205589\n",
      "[7750]\ttraining's l2: 1.49297e-07\ttraining's RMSPE: 0.178797\tvalid_1's l2: 1.96689e-07\tvalid_1's RMSPE: 0.205559\n",
      "[8000]\ttraining's l2: 1.48095e-07\ttraining's RMSPE: 0.178075\tvalid_1's l2: 1.96863e-07\tvalid_1's RMSPE: 0.20565\n",
      "Early stopping, best iteration is:\n",
      "[7833]\ttraining's l2: 1.48895e-07\ttraining's RMSPE: 0.178556\tvalid_1's l2: 1.96591e-07\tvalid_1's RMSPE: 0.205508\n"
     ]
    },
    {
     "name": "stderr",
     "output_type": "stream",
     "text": [
      "10it [53:09, 318.93s/it]"
     ]
    },
    {
     "name": "stdout",
     "output_type": "stream",
     "text": [
      "model saved \n",
      "==================================\n",
      "0.20844352433768196\n"
     ]
    },
    {
     "name": "stderr",
     "output_type": "stream",
     "text": [
      "\n"
     ]
    }
   ],
   "source": [
    "oof_df = util.fit_model(params,X_train,y_train,features,cats=['stock_id'],n_fold=10,seed=66)"
   ]
  },
  {
   "cell_type": "code",
   "execution_count": 18,
   "metadata": {},
   "outputs": [
    {
     "data": {
      "text/plain": [
       "Index(['time_id', 'stock_id', 'book_wap1_lambda_', 'book_wap2_lambda_',\n",
       "       'book_wap_mean_lambda_', 'book_wap_diff_lambda_',\n",
       "       'book_price_spread_lambda_', 'book_bid_spread_lambda_',\n",
       "       'book_ask_spread_lambda_', 'book_total_volume_lambda_',\n",
       "       'book_volume_imbalance_lambda_', 'pricesum', 'pricemean', 'pricestd',\n",
       "       'pricemax', 'pricemin', 'sizesum', 'sizemean', 'sizestd', 'sizemax',\n",
       "       'sizemin', 'order_countsum', 'order_countmean', 'order_countstd',\n",
       "       'order_countmax', 'order_countmin', 'seconds_in_bucketsum',\n",
       "       'seconds_in_bucketmean', 'seconds_in_bucketstd', 'seconds_in_bucketmax',\n",
       "       'seconds_in_bucketmin', '__book_wap1_lambda_____mean___time',\n",
       "       '__book_wap1_lambda_____std___time',\n",
       "       '__book_wap1_lambda_____max___time',\n",
       "       '__book_wap1_lambda_____min___time',\n",
       "       '__book_wap2_lambda_____mean___time',\n",
       "       '__book_wap2_lambda_____std___time',\n",
       "       '__book_wap2_lambda_____max___time',\n",
       "       '__book_wap2_lambda_____min___time',\n",
       "       '__book_wap_mean_lambda_____mean___time',\n",
       "       '__book_wap_mean_lambda_____std___time',\n",
       "       '__book_wap_mean_lambda_____max___time',\n",
       "       '__book_wap_mean_lambda_____min___time',\n",
       "       '__book_wap_diff_lambda_____mean___time',\n",
       "       '__book_wap_diff_lambda_____std___time',\n",
       "       '__book_wap_diff_lambda_____max___time',\n",
       "       '__book_wap_diff_lambda_____min___time',\n",
       "       '__book_wap1_lambda_____mean___stock',\n",
       "       '__book_wap1_lambda_____std___stock',\n",
       "       '__book_wap1_lambda_____max___stock',\n",
       "       '__book_wap1_lambda_____min___stock',\n",
       "       '__book_wap2_lambda_____mean___stock',\n",
       "       '__book_wap2_lambda_____std___stock',\n",
       "       '__book_wap2_lambda_____max___stock',\n",
       "       '__book_wap2_lambda_____min___stock',\n",
       "       '__book_wap_mean_lambda_____mean___stock',\n",
       "       '__book_wap_mean_lambda_____std___stock',\n",
       "       '__book_wap_mean_lambda_____max___stock',\n",
       "       '__book_wap_mean_lambda_____min___stock',\n",
       "       '__book_wap_diff_lambda_____mean___stock',\n",
       "       '__book_wap_diff_lambda_____std___stock',\n",
       "       '__book_wap_diff_lambda_____max___stock',\n",
       "       '__book_wap_diff_lambda_____min___stock', 'target'],\n",
       "      dtype='object')"
      ]
     },
     "execution_count": 18,
     "metadata": {},
     "output_type": "execute_result"
    }
   ],
   "source": [
    "df_all.columns"
   ]
  },
  {
   "cell_type": "code",
   "execution_count": null,
   "metadata": {},
   "outputs": [],
   "source": []
  }
 ],
 "metadata": {
  "hide_input": false,
  "kernelspec": {
   "name": "optiver-realized-volatility-prediction",
   "language": "python",
   "display_name": "optiver-realized-volatility-prediction"
  },
  "language_info": {
   "codemirror_mode": {
    "name": "ipython",
    "version": 3
   },
   "file_extension": ".py",
   "mimetype": "text/x-python",
   "name": "python",
   "nbconvert_exporter": "python",
   "pygments_lexer": "ipython3",
   "version": "3.8.8"
  },
  "varInspector": {
   "cols": {
    "lenName": 16,
    "lenType": 16,
    "lenVar": 40
   },
   "kernels_config": {
    "python": {
     "delete_cmd_postfix": "",
     "delete_cmd_prefix": "del ",
     "library": "var_list.py",
     "varRefreshCmd": "print(var_dic_list())"
    },
    "r": {
     "delete_cmd_postfix": ") ",
     "delete_cmd_prefix": "rm(",
     "library": "var_list.r",
     "varRefreshCmd": "cat(var_dic_list()) "
    }
   },
   "types_to_exclude": [
    "module",
    "function",
    "builtin_function_or_method",
    "instance",
    "_Feature"
   ],
   "window_display": false
  }
 },
 "nbformat": 4,
 "nbformat_minor": 2
}