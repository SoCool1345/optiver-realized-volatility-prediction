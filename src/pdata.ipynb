{
 "cells": [
  {
   "cell_type": "code",
   "execution_count": 4,
   "metadata": {},
   "outputs": [
    {
     "data": {
      "text/plain": "<module 'utils.util' from 'D:\\\\pycharm_project\\\\optiver-realized-volatility-prediction\\\\src\\\\utils\\\\util.py'>"
     },
     "execution_count": 4,
     "metadata": {},
     "output_type": "execute_result"
    }
   ],
   "source": [
    "import pandas as pd\n",
    "from imp import reload\n",
    "from utils import util\n",
    "reload(util)"
   ]
  },
  {
   "cell_type": "code",
   "execution_count": 5,
   "metadata": {},
   "outputs": [],
   "source": [
    "# 加载 book 数据和 trade 数据\n",
    "book0 = util.load_book(0)\n",
    "trade0 = util.load_trade(0)\n",
    "book0 = util.feature_row(book0)\n"
   ]
  },
  {
   "cell_type": "code",
   "execution_count": 6,
   "metadata": {},
   "outputs": [
    {
     "name": "stderr",
     "output_type": "stream",
     "text": [
      "C:\\Users\\zhou\\AppData\\Roaming\\Python\\Python38\\site-packages\\pandas\\core\\arraylike.py:364: RuntimeWarning: invalid value encountered in log\n",
      "  result = getattr(ufunc, method)(*inputs, **kwargs)\n",
      "C:\\Users\\zhou\\AppData\\Roaming\\Python\\Python38\\site-packages\\pandas\\core\\arraylike.py:364: RuntimeWarning: divide by zero encountered in log\n",
      "  result = getattr(ufunc, method)(*inputs, **kwargs)\n",
      "C:\\Users\\zhou\\AppData\\Roaming\\Python\\Python38\\site-packages\\pandas\\core\\generic.py:4150: PerformanceWarning: dropping on a non-lexsorted multi-index without a level parameter may impact performance.\n",
      "  obj = obj._drop_axis(labels, axis, level=level, errors=errors)\n"
     ]
    }
   ],
   "source": [
    "fe0 = util.gen_data_train(0)"
   ]
  },
  {
   "cell_type": "code",
   "execution_count": 7,
   "outputs": [
    {
     "data": {
      "text/plain": "array([('time_id', ''), ('stock_id_x', ''), ('book_wap1_x', '<lambda>'),\n       ('book_wap2_x', '<lambda>'), ('book_wap_mean_x', '<lambda>'),\n       ('book_wap_diff_x', '<lambda>'),\n       ('book_price_spread_x', '<lambda>'),\n       ('book_bid_spread_x', '<lambda>'),\n       ('book_ask_spread_x', '<lambda>'),\n       ('book_total_volume_x', '<lambda>'),\n       ('book_volume_imbalance_x', '<lambda>'), ('price_x', 'sum'),\n       ('price_x', 'mean'), ('price_x', 'std'), ('price_x', 'max'),\n       ('price_x', 'min'), ('size_x', 'sum'), ('size_x', 'mean'),\n       ('size_x', 'std'), ('size_x', 'max'), ('size_x', 'min'),\n       ('order_count_x', 'sum'), ('order_count_x', 'mean'),\n       ('order_count_x', 'std'), ('order_count_x', 'max'),\n       ('order_count_x', 'min'), ('seconds_in_bucket_x', 'sum'),\n       ('seconds_in_bucket_x', 'mean'), ('seconds_in_bucket_x', 'std'),\n       ('seconds_in_bucket_x', 'max'), ('seconds_in_bucket_x', 'min'),\n       ('stock_id_y', ''), ('book_wap1_y', '<lambda>'),\n       ('book_wap2_y', '<lambda>'), ('book_wap_mean_y', '<lambda>'),\n       ('book_wap_diff_y', '<lambda>'),\n       ('book_price_spread_y', '<lambda>'),\n       ('book_bid_spread_y', '<lambda>'),\n       ('book_ask_spread_y', '<lambda>'),\n       ('book_total_volume_y', '<lambda>'),\n       ('book_volume_imbalance_y', '<lambda>'), ('price_y', 'sum'),\n       ('price_y', 'mean'), ('price_y', 'std'), ('price_y', 'max'),\n       ('price_y', 'min'), ('size_y', 'sum'), ('size_y', 'mean'),\n       ('size_y', 'std'), ('size_y', 'max'), ('size_y', 'min'),\n       ('order_count_y', 'sum'), ('order_count_y', 'mean'),\n       ('order_count_y', 'std'), ('order_count_y', 'max'),\n       ('order_count_y', 'min'), ('seconds_in_bucket_y', 'sum'),\n       ('seconds_in_bucket_y', 'mean'), ('seconds_in_bucket_y', 'std'),\n       ('seconds_in_bucket_y', 'max'), ('seconds_in_bucket_y', 'min')],\n      dtype=object)"
     },
     "execution_count": 7,
     "metadata": {},
     "output_type": "execute_result"
    }
   ],
   "source": [
    "fe0.columns.values"
   ],
   "metadata": {
    "collapsed": false,
    "pycharm": {
     "name": "#%%\n"
    }
   }
  },
  {
   "cell_type": "code",
   "execution_count": 4,
   "metadata": {},
   "outputs": [],
   "source": [
    "# 加载标签数据\n",
    "label = pd.read_csv('../data/train.csv')\n",
    "label = label[label.stock_id==0]\n",
    "label = label.sort_values('time_id').target"
   ]
  },
  {
   "cell_type": "code",
   "execution_count": 5,
   "metadata": {},
   "outputs": [],
   "source": [
    "col_name_book = book0.columns.tolist()\n",
    "col_name_trade = ['price', 'size', 'order_count', 'seconds_in_bucket']"
   ]
  },
  {
   "cell_type": "code",
   "execution_count": 6,
   "metadata": {},
   "outputs": [
    {
     "data": {
      "text/plain": "        time_id  seconds_in_bucket  bid_price1  ask_price1  bid_price2  \\\n0             5                  0    1.001422    1.002301    1.001370   \n1             5                  1    1.001422    1.002301    1.001370   \n2             5                  5    1.001422    1.002301    1.001370   \n3             5                  6    1.001422    1.002301    1.001370   \n4             5                  7    1.001422    1.002301    1.001370   \n...         ...                ...         ...         ...         ...   \n917548    32767                568    0.998275    0.998754    0.997796   \n917549    32767                569    0.998275    0.998754    0.997892   \n917550    32767                571    0.998275    0.998754    0.997892   \n917551    32767                572    0.998275    0.998754    0.997892   \n917552    32767                582    0.998275    0.998754    0.998179   \n\n        ask_price2  bid_size1  ask_size1  bid_size2  ask_size2  stock_id  \\\n0         1.002353          3        226          2        100         0   \n1         1.002353          3        100          2        100         0   \n2         1.002405          3        100          2        100         0   \n3         1.002405          3        126          2        100         0   \n4         1.002405          3        126          2        100         0   \n...            ...        ...        ...        ...        ...       ...   \n917548    0.998946         90         90         48         28         0   \n917549    0.998946         91         90        200         28         0   \n917550    0.998946         91         90        100         28         0   \n917551    0.998946         92         90        100         28         0   \n917552    0.998946         92         90         26         28         0   \n\n        book_wap1  book_wap2  book_wap_mean  book_wap_diff  book_price_spread  \\\n0        1.001434   1.001390       1.001412       0.000044           0.000439   \n1        1.001448   1.001390       1.001419       0.000058           0.000439   \n2        1.001448   1.001391       1.001419       0.000057           0.000439   \n3        1.001443   1.001391       1.001417       0.000052           0.000439   \n4        1.001443   1.001391       1.001417       0.000052           0.000439   \n...           ...        ...            ...            ...                ...   \n917548   0.998515   0.998522       0.998519      -0.000008           0.000240   \n917549   0.998516   0.998817       0.998666      -0.000300           0.000240   \n917550   0.998516   0.998715       0.998616      -0.000199           0.000240   \n917551   0.998517   0.998715       0.998616      -0.000198           0.000240   \n917552   0.998517   0.998549       0.998533      -0.000031           0.000240   \n\n        book_bid_spread  book_ask_spread  book_total_volume  \\\n0              0.000052        -0.000052                331   \n1              0.000052        -0.000052                205   \n2              0.000052        -0.000103                205   \n3              0.000052        -0.000103                231   \n4              0.000052        -0.000103                231   \n...                 ...              ...                ...   \n917548         0.000479        -0.000192                256   \n917549         0.000383        -0.000192                409   \n917550         0.000383        -0.000192                309   \n917551         0.000383        -0.000192                310   \n917552         0.000096        -0.000192                236   \n\n        book_volume_imbalance  \n0                         321  \n1                         195  \n2                         195  \n3                         221  \n4                         221  \n...                       ...  \n917548                    -20  \n917549                   -173  \n917550                    -73  \n917551                    -74  \n917552                      0  \n\n[917553 rows x 20 columns]",
      "text/html": "<div>\n<style scoped>\n    .dataframe tbody tr th:only-of-type {\n        vertical-align: middle;\n    }\n\n    .dataframe tbody tr th {\n        vertical-align: top;\n    }\n\n    .dataframe thead th {\n        text-align: right;\n    }\n</style>\n<table border=\"1\" class=\"dataframe\">\n  <thead>\n    <tr style=\"text-align: right;\">\n      <th></th>\n      <th>time_id</th>\n      <th>seconds_in_bucket</th>\n      <th>bid_price1</th>\n      <th>ask_price1</th>\n      <th>bid_price2</th>\n      <th>ask_price2</th>\n      <th>bid_size1</th>\n      <th>ask_size1</th>\n      <th>bid_size2</th>\n      <th>ask_size2</th>\n      <th>stock_id</th>\n      <th>book_wap1</th>\n      <th>book_wap2</th>\n      <th>book_wap_mean</th>\n      <th>book_wap_diff</th>\n      <th>book_price_spread</th>\n      <th>book_bid_spread</th>\n      <th>book_ask_spread</th>\n      <th>book_total_volume</th>\n      <th>book_volume_imbalance</th>\n    </tr>\n  </thead>\n  <tbody>\n    <tr>\n      <th>0</th>\n      <td>5</td>\n      <td>0</td>\n      <td>1.001422</td>\n      <td>1.002301</td>\n      <td>1.001370</td>\n      <td>1.002353</td>\n      <td>3</td>\n      <td>226</td>\n      <td>2</td>\n      <td>100</td>\n      <td>0</td>\n      <td>1.001434</td>\n      <td>1.001390</td>\n      <td>1.001412</td>\n      <td>0.000044</td>\n      <td>0.000439</td>\n      <td>0.000052</td>\n      <td>-0.000052</td>\n      <td>331</td>\n      <td>321</td>\n    </tr>\n    <tr>\n      <th>1</th>\n      <td>5</td>\n      <td>1</td>\n      <td>1.001422</td>\n      <td>1.002301</td>\n      <td>1.001370</td>\n      <td>1.002353</td>\n      <td>3</td>\n      <td>100</td>\n      <td>2</td>\n      <td>100</td>\n      <td>0</td>\n      <td>1.001448</td>\n      <td>1.001390</td>\n      <td>1.001419</td>\n      <td>0.000058</td>\n      <td>0.000439</td>\n      <td>0.000052</td>\n      <td>-0.000052</td>\n      <td>205</td>\n      <td>195</td>\n    </tr>\n    <tr>\n      <th>2</th>\n      <td>5</td>\n      <td>5</td>\n      <td>1.001422</td>\n      <td>1.002301</td>\n      <td>1.001370</td>\n      <td>1.002405</td>\n      <td>3</td>\n      <td>100</td>\n      <td>2</td>\n      <td>100</td>\n      <td>0</td>\n      <td>1.001448</td>\n      <td>1.001391</td>\n      <td>1.001419</td>\n      <td>0.000057</td>\n      <td>0.000439</td>\n      <td>0.000052</td>\n      <td>-0.000103</td>\n      <td>205</td>\n      <td>195</td>\n    </tr>\n    <tr>\n      <th>3</th>\n      <td>5</td>\n      <td>6</td>\n      <td>1.001422</td>\n      <td>1.002301</td>\n      <td>1.001370</td>\n      <td>1.002405</td>\n      <td>3</td>\n      <td>126</td>\n      <td>2</td>\n      <td>100</td>\n      <td>0</td>\n      <td>1.001443</td>\n      <td>1.001391</td>\n      <td>1.001417</td>\n      <td>0.000052</td>\n      <td>0.000439</td>\n      <td>0.000052</td>\n      <td>-0.000103</td>\n      <td>231</td>\n      <td>221</td>\n    </tr>\n    <tr>\n      <th>4</th>\n      <td>5</td>\n      <td>7</td>\n      <td>1.001422</td>\n      <td>1.002301</td>\n      <td>1.001370</td>\n      <td>1.002405</td>\n      <td>3</td>\n      <td>126</td>\n      <td>2</td>\n      <td>100</td>\n      <td>0</td>\n      <td>1.001443</td>\n      <td>1.001391</td>\n      <td>1.001417</td>\n      <td>0.000052</td>\n      <td>0.000439</td>\n      <td>0.000052</td>\n      <td>-0.000103</td>\n      <td>231</td>\n      <td>221</td>\n    </tr>\n    <tr>\n      <th>...</th>\n      <td>...</td>\n      <td>...</td>\n      <td>...</td>\n      <td>...</td>\n      <td>...</td>\n      <td>...</td>\n      <td>...</td>\n      <td>...</td>\n      <td>...</td>\n      <td>...</td>\n      <td>...</td>\n      <td>...</td>\n      <td>...</td>\n      <td>...</td>\n      <td>...</td>\n      <td>...</td>\n      <td>...</td>\n      <td>...</td>\n      <td>...</td>\n      <td>...</td>\n    </tr>\n    <tr>\n      <th>917548</th>\n      <td>32767</td>\n      <td>568</td>\n      <td>0.998275</td>\n      <td>0.998754</td>\n      <td>0.997796</td>\n      <td>0.998946</td>\n      <td>90</td>\n      <td>90</td>\n      <td>48</td>\n      <td>28</td>\n      <td>0</td>\n      <td>0.998515</td>\n      <td>0.998522</td>\n      <td>0.998519</td>\n      <td>-0.000008</td>\n      <td>0.000240</td>\n      <td>0.000479</td>\n      <td>-0.000192</td>\n      <td>256</td>\n      <td>-20</td>\n    </tr>\n    <tr>\n      <th>917549</th>\n      <td>32767</td>\n      <td>569</td>\n      <td>0.998275</td>\n      <td>0.998754</td>\n      <td>0.997892</td>\n      <td>0.998946</td>\n      <td>91</td>\n      <td>90</td>\n      <td>200</td>\n      <td>28</td>\n      <td>0</td>\n      <td>0.998516</td>\n      <td>0.998817</td>\n      <td>0.998666</td>\n      <td>-0.000300</td>\n      <td>0.000240</td>\n      <td>0.000383</td>\n      <td>-0.000192</td>\n      <td>409</td>\n      <td>-173</td>\n    </tr>\n    <tr>\n      <th>917550</th>\n      <td>32767</td>\n      <td>571</td>\n      <td>0.998275</td>\n      <td>0.998754</td>\n      <td>0.997892</td>\n      <td>0.998946</td>\n      <td>91</td>\n      <td>90</td>\n      <td>100</td>\n      <td>28</td>\n      <td>0</td>\n      <td>0.998516</td>\n      <td>0.998715</td>\n      <td>0.998616</td>\n      <td>-0.000199</td>\n      <td>0.000240</td>\n      <td>0.000383</td>\n      <td>-0.000192</td>\n      <td>309</td>\n      <td>-73</td>\n    </tr>\n    <tr>\n      <th>917551</th>\n      <td>32767</td>\n      <td>572</td>\n      <td>0.998275</td>\n      <td>0.998754</td>\n      <td>0.997892</td>\n      <td>0.998946</td>\n      <td>92</td>\n      <td>90</td>\n      <td>100</td>\n      <td>28</td>\n      <td>0</td>\n      <td>0.998517</td>\n      <td>0.998715</td>\n      <td>0.998616</td>\n      <td>-0.000198</td>\n      <td>0.000240</td>\n      <td>0.000383</td>\n      <td>-0.000192</td>\n      <td>310</td>\n      <td>-74</td>\n    </tr>\n    <tr>\n      <th>917552</th>\n      <td>32767</td>\n      <td>582</td>\n      <td>0.998275</td>\n      <td>0.998754</td>\n      <td>0.998179</td>\n      <td>0.998946</td>\n      <td>92</td>\n      <td>90</td>\n      <td>26</td>\n      <td>28</td>\n      <td>0</td>\n      <td>0.998517</td>\n      <td>0.998549</td>\n      <td>0.998533</td>\n      <td>-0.000031</td>\n      <td>0.000240</td>\n      <td>0.000096</td>\n      <td>-0.000192</td>\n      <td>236</td>\n      <td>0</td>\n    </tr>\n  </tbody>\n</table>\n<p>917553 rows × 20 columns</p>\n</div>"
     },
     "execution_count": 6,
     "metadata": {},
     "output_type": "execute_result"
    }
   ],
   "source": [
    "util.feature_row(book0)"
   ]
  },
  {
   "cell_type": "code",
   "execution_count": 10,
   "metadata": {},
   "outputs": [
    {
     "ename": "ImportError",
     "evalue": "DLL load failed while importing ft2font: %1 不是有效的 Win32 应用程序。",
     "output_type": "error",
     "traceback": [
      "\u001B[1;31m---------------------------------------------------------------------------\u001B[0m",
      "\u001B[1;31mImportError\u001B[0m                               Traceback (most recent call last)",
      "\u001B[1;32m<ipython-input-10-c4a4ebb472be>\u001B[0m in \u001B[0;36m<module>\u001B[1;34m\u001B[0m\n\u001B[1;32m----> 1\u001B[1;33m \u001B[1;32mfrom\u001B[0m \u001B[0mtsfresh\u001B[0m \u001B[1;32mimport\u001B[0m \u001B[0mextract_features\u001B[0m\u001B[1;33m\u001B[0m\u001B[1;33m\u001B[0m\u001B[0m\n\u001B[0m\u001B[0;32m      2\u001B[0m \u001B[0mbook0\u001B[0m \u001B[1;33m=\u001B[0m \u001B[0mbook0\u001B[0m\u001B[1;33m.\u001B[0m\u001B[0mreset_index\u001B[0m\u001B[1;33m(\u001B[0m\u001B[1;33m)\u001B[0m\u001B[1;33m\u001B[0m\u001B[1;33m\u001B[0m\u001B[0m\n\u001B[0;32m      3\u001B[0m \u001B[0mextracted_features_book\u001B[0m \u001B[1;33m=\u001B[0m \u001B[0mextract_features\u001B[0m\u001B[1;33m(\u001B[0m\u001B[0mbook0\u001B[0m\u001B[1;33m,\u001B[0m \u001B[0mcolumn_id\u001B[0m\u001B[1;33m=\u001B[0m\u001B[1;34m\"time_id\"\u001B[0m\u001B[1;33m,\u001B[0m \u001B[0mcolumn_sort\u001B[0m\u001B[1;33m=\u001B[0m\u001B[1;34m\"index\"\u001B[0m\u001B[1;33m)\u001B[0m\u001B[1;33m\u001B[0m\u001B[1;33m\u001B[0m\u001B[0m\n\u001B[0;32m      4\u001B[0m \u001B[1;33m\u001B[0m\u001B[0m\n",
      "\u001B[1;32mD:\\pycharm_project\\optiver-realized-volatility-prediction\\venv\\lib\\site-packages\\tsfresh\\__init__.py\u001B[0m in \u001B[0;36m<module>\u001B[1;34m\u001B[0m\n\u001B[0;32m     25\u001B[0m \u001B[1;33m\u001B[0m\u001B[0m\n\u001B[0;32m     26\u001B[0m \u001B[1;33m\u001B[0m\u001B[0m\n\u001B[1;32m---> 27\u001B[1;33m from tsfresh.convenience.relevant_extraction import (  # noqa: E402\n\u001B[0m\u001B[0;32m     28\u001B[0m     \u001B[0mextract_relevant_features\u001B[0m\u001B[1;33m,\u001B[0m\u001B[1;33m\u001B[0m\u001B[1;33m\u001B[0m\u001B[0m\n\u001B[0;32m     29\u001B[0m )\n",
      "\u001B[1;32mD:\\pycharm_project\\optiver-realized-volatility-prediction\\venv\\lib\\site-packages\\tsfresh\\convenience\\relevant_extraction.py\u001B[0m in \u001B[0;36m<module>\u001B[1;34m\u001B[0m\n\u001B[0;32m      6\u001B[0m \u001B[1;33m\u001B[0m\u001B[0m\n\u001B[0;32m      7\u001B[0m \u001B[1;32mfrom\u001B[0m \u001B[0mtsfresh\u001B[0m \u001B[1;32mimport\u001B[0m \u001B[0mdefaults\u001B[0m\u001B[1;33m\u001B[0m\u001B[1;33m\u001B[0m\u001B[0m\n\u001B[1;32m----> 8\u001B[1;33m \u001B[1;32mfrom\u001B[0m \u001B[0mtsfresh\u001B[0m\u001B[1;33m.\u001B[0m\u001B[0mfeature_extraction\u001B[0m \u001B[1;32mimport\u001B[0m \u001B[0mextract_features\u001B[0m\u001B[1;33m\u001B[0m\u001B[1;33m\u001B[0m\u001B[0m\n\u001B[0m\u001B[0;32m      9\u001B[0m \u001B[1;32mfrom\u001B[0m \u001B[0mtsfresh\u001B[0m\u001B[1;33m.\u001B[0m\u001B[0mfeature_selection\u001B[0m \u001B[1;32mimport\u001B[0m \u001B[0mselect_features\u001B[0m\u001B[1;33m\u001B[0m\u001B[1;33m\u001B[0m\u001B[0m\n\u001B[0;32m     10\u001B[0m from tsfresh.utilities.dataframe_functions import (\n",
      "\u001B[1;32mD:\\pycharm_project\\optiver-realized-volatility-prediction\\venv\\lib\\site-packages\\tsfresh\\feature_extraction\\__init__.py\u001B[0m in \u001B[0;36m<module>\u001B[1;34m\u001B[0m\n\u001B[0;32m      3\u001B[0m \"\"\"\n\u001B[0;32m      4\u001B[0m \u001B[1;33m\u001B[0m\u001B[0m\n\u001B[1;32m----> 5\u001B[1;33m \u001B[1;32mfrom\u001B[0m \u001B[0mtsfresh\u001B[0m\u001B[1;33m.\u001B[0m\u001B[0mfeature_extraction\u001B[0m\u001B[1;33m.\u001B[0m\u001B[0mextraction\u001B[0m \u001B[1;32mimport\u001B[0m \u001B[0mextract_features\u001B[0m\u001B[1;33m\u001B[0m\u001B[1;33m\u001B[0m\u001B[0m\n\u001B[0m\u001B[0;32m      6\u001B[0m from tsfresh.feature_extraction.settings import (\n\u001B[0;32m      7\u001B[0m     \u001B[0mComprehensiveFCParameters\u001B[0m\u001B[1;33m,\u001B[0m\u001B[1;33m\u001B[0m\u001B[1;33m\u001B[0m\u001B[0m\n",
      "\u001B[1;32mD:\\pycharm_project\\optiver-realized-volatility-prediction\\venv\\lib\\site-packages\\tsfresh\\feature_extraction\\extraction.py\u001B[0m in \u001B[0;36m<module>\u001B[1;34m\u001B[0m\n\u001B[0;32m     13\u001B[0m \u001B[1;33m\u001B[0m\u001B[0m\n\u001B[0;32m     14\u001B[0m \u001B[1;32mfrom\u001B[0m \u001B[0mtsfresh\u001B[0m \u001B[1;32mimport\u001B[0m \u001B[0mdefaults\u001B[0m\u001B[1;33m\u001B[0m\u001B[1;33m\u001B[0m\u001B[0m\n\u001B[1;32m---> 15\u001B[1;33m \u001B[1;32mfrom\u001B[0m \u001B[0mtsfresh\u001B[0m\u001B[1;33m.\u001B[0m\u001B[0mfeature_extraction\u001B[0m \u001B[1;32mimport\u001B[0m \u001B[0mfeature_calculators\u001B[0m\u001B[1;33m\u001B[0m\u001B[1;33m\u001B[0m\u001B[0m\n\u001B[0m\u001B[0;32m     16\u001B[0m \u001B[1;32mfrom\u001B[0m \u001B[0mtsfresh\u001B[0m\u001B[1;33m.\u001B[0m\u001B[0mfeature_extraction\u001B[0m\u001B[1;33m.\u001B[0m\u001B[0mdata\u001B[0m \u001B[1;32mimport\u001B[0m \u001B[0mto_tsdata\u001B[0m\u001B[1;33m\u001B[0m\u001B[1;33m\u001B[0m\u001B[0m\n\u001B[0;32m     17\u001B[0m \u001B[1;32mfrom\u001B[0m \u001B[0mtsfresh\u001B[0m\u001B[1;33m.\u001B[0m\u001B[0mfeature_extraction\u001B[0m\u001B[1;33m.\u001B[0m\u001B[0msettings\u001B[0m \u001B[1;32mimport\u001B[0m \u001B[0mComprehensiveFCParameters\u001B[0m\u001B[1;33m\u001B[0m\u001B[1;33m\u001B[0m\u001B[0m\n",
      "\u001B[1;32mD:\\pycharm_project\\optiver-realized-volatility-prediction\\venv\\lib\\site-packages\\tsfresh\\feature_extraction\\feature_calculators.py\u001B[0m in \u001B[0;36m<module>\u001B[1;34m\u001B[0m\n\u001B[0;32m     24\u001B[0m \u001B[1;32mfrom\u001B[0m \u001B[0mcollections\u001B[0m \u001B[1;32mimport\u001B[0m \u001B[0mdefaultdict\u001B[0m\u001B[1;33m\u001B[0m\u001B[1;33m\u001B[0m\u001B[0m\n\u001B[0;32m     25\u001B[0m \u001B[1;33m\u001B[0m\u001B[0m\n\u001B[1;32m---> 26\u001B[1;33m \u001B[1;32mimport\u001B[0m \u001B[0mmatrixprofile\u001B[0m \u001B[1;32mas\u001B[0m \u001B[0mmp\u001B[0m\u001B[1;33m\u001B[0m\u001B[1;33m\u001B[0m\u001B[0m\n\u001B[0m\u001B[0;32m     27\u001B[0m \u001B[1;32mimport\u001B[0m \u001B[0mnumpy\u001B[0m \u001B[1;32mas\u001B[0m \u001B[0mnp\u001B[0m\u001B[1;33m\u001B[0m\u001B[1;33m\u001B[0m\u001B[0m\n\u001B[0;32m     28\u001B[0m \u001B[1;32mimport\u001B[0m \u001B[0mpandas\u001B[0m \u001B[1;32mas\u001B[0m \u001B[0mpd\u001B[0m\u001B[1;33m\u001B[0m\u001B[1;33m\u001B[0m\u001B[0m\n",
      "\u001B[1;32mD:\\pycharm_project\\optiver-realized-volatility-prediction\\venv\\lib\\site-packages\\matrixprofile\\__init__.py\u001B[0m in \u001B[0;36m<module>\u001B[1;34m\u001B[0m\n\u001B[0;32m      6\u001B[0m \u001B[1;32mfrom\u001B[0m \u001B[0mmatrixprofile\u001B[0m\u001B[1;33m.\u001B[0m\u001B[0mversion\u001B[0m \u001B[1;32mimport\u001B[0m \u001B[0m__version__\u001B[0m\u001B[1;33m,\u001B[0m \u001B[0m__version_info__\u001B[0m\u001B[1;33m\u001B[0m\u001B[1;33m\u001B[0m\u001B[0m\n\u001B[0;32m      7\u001B[0m \u001B[1;33m\u001B[0m\u001B[0m\n\u001B[1;32m----> 8\u001B[1;33m \u001B[1;32mfrom\u001B[0m \u001B[0mmatrixprofile\u001B[0m\u001B[1;33m.\u001B[0m\u001B[0mcompute\u001B[0m \u001B[1;32mimport\u001B[0m \u001B[0mcompute\u001B[0m\u001B[1;33m\u001B[0m\u001B[1;33m\u001B[0m\u001B[0m\n\u001B[0m\u001B[0;32m      9\u001B[0m \u001B[1;32mfrom\u001B[0m \u001B[0mmatrixprofile\u001B[0m\u001B[1;33m.\u001B[0m\u001B[0mvisualize\u001B[0m \u001B[1;32mimport\u001B[0m \u001B[0mvisualize\u001B[0m\u001B[1;33m\u001B[0m\u001B[1;33m\u001B[0m\u001B[0m\n\u001B[0;32m     10\u001B[0m \u001B[1;32mfrom\u001B[0m \u001B[0mmatrixprofile\u001B[0m\u001B[1;33m.\u001B[0m\u001B[0manalyze\u001B[0m \u001B[1;32mimport\u001B[0m \u001B[0manalyze\u001B[0m\u001B[1;33m\u001B[0m\u001B[1;33m\u001B[0m\u001B[0m\n",
      "\u001B[1;32mD:\\pycharm_project\\optiver-realized-volatility-prediction\\venv\\lib\\site-packages\\matrixprofile\\compute.py\u001B[0m in \u001B[0;36m<module>\u001B[1;34m\u001B[0m\n\u001B[0;32m     23\u001B[0m \u001B[1;32mfrom\u001B[0m \u001B[0mmatrixprofile\u001B[0m\u001B[1;33m.\u001B[0m\u001B[0malgorithms\u001B[0m\u001B[1;33m.\u001B[0m\u001B[0mmpx\u001B[0m \u001B[1;32mimport\u001B[0m \u001B[0mmpx\u001B[0m\u001B[1;33m\u001B[0m\u001B[1;33m\u001B[0m\u001B[0m\n\u001B[0;32m     24\u001B[0m \u001B[1;32mfrom\u001B[0m \u001B[0mmatrixprofile\u001B[0m\u001B[1;33m.\u001B[0m\u001B[0malgorithms\u001B[0m\u001B[1;33m.\u001B[0m\u001B[0mscrimp\u001B[0m \u001B[1;32mimport\u001B[0m \u001B[0mscrimp_plus_plus\u001B[0m\u001B[1;33m\u001B[0m\u001B[1;33m\u001B[0m\u001B[0m\n\u001B[1;32m---> 25\u001B[1;33m \u001B[1;32mfrom\u001B[0m \u001B[0mmatrixprofile\u001B[0m\u001B[1;33m.\u001B[0m\u001B[0malgorithms\u001B[0m\u001B[1;33m.\u001B[0m\u001B[0mskimp\u001B[0m \u001B[1;32mimport\u001B[0m \u001B[0mskimp\u001B[0m\u001B[1;33m\u001B[0m\u001B[1;33m\u001B[0m\u001B[0m\n\u001B[0m\u001B[0;32m     26\u001B[0m \u001B[1;32mfrom\u001B[0m \u001B[0mmatrixprofile\u001B[0m\u001B[1;33m.\u001B[0m\u001B[0malgorithms\u001B[0m\u001B[1;33m.\u001B[0m\u001B[0mskimp\u001B[0m \u001B[1;32mimport\u001B[0m \u001B[0mmaximum_subsequence\u001B[0m\u001B[1;33m\u001B[0m\u001B[1;33m\u001B[0m\u001B[0m\n\u001B[0;32m     27\u001B[0m \u001B[1;33m\u001B[0m\u001B[0m\n",
      "\u001B[1;32mD:\\pycharm_project\\optiver-realized-volatility-prediction\\venv\\lib\\site-packages\\matrixprofile\\algorithms\\__init__.py\u001B[0m in \u001B[0;36m<module>\u001B[1;34m\u001B[0m\n\u001B[0;32m      6\u001B[0m \u001B[1;32mfrom\u001B[0m \u001B[0mmatrixprofile\u001B[0m\u001B[1;33m.\u001B[0m\u001B[0malgorithms\u001B[0m\u001B[1;33m.\u001B[0m\u001B[0mscrimp\u001B[0m \u001B[1;32mimport\u001B[0m \u001B[0mscrimp_plus_plus\u001B[0m\u001B[1;33m\u001B[0m\u001B[1;33m\u001B[0m\u001B[0m\n\u001B[0;32m      7\u001B[0m \u001B[1;32mfrom\u001B[0m \u001B[0mmatrixprofile\u001B[0m\u001B[1;33m.\u001B[0m\u001B[0malgorithms\u001B[0m\u001B[1;33m.\u001B[0m\u001B[0mscrimp\u001B[0m \u001B[1;32mimport\u001B[0m \u001B[0mprescrimp\u001B[0m\u001B[1;33m\u001B[0m\u001B[1;33m\u001B[0m\u001B[0m\n\u001B[1;32m----> 8\u001B[1;33m \u001B[1;32mfrom\u001B[0m \u001B[0mmatrixprofile\u001B[0m\u001B[1;33m.\u001B[0m\u001B[0malgorithms\u001B[0m\u001B[1;33m.\u001B[0m\u001B[0mskimp\u001B[0m \u001B[1;32mimport\u001B[0m \u001B[0mskimp\u001B[0m\u001B[1;33m\u001B[0m\u001B[1;33m\u001B[0m\u001B[0m\n\u001B[0m\u001B[0;32m      9\u001B[0m \u001B[1;32mfrom\u001B[0m \u001B[0mmatrixprofile\u001B[0m\u001B[1;33m.\u001B[0m\u001B[0malgorithms\u001B[0m\u001B[1;33m.\u001B[0m\u001B[0mskimp\u001B[0m \u001B[1;32mimport\u001B[0m \u001B[0mmaximum_subsequence\u001B[0m\u001B[1;33m\u001B[0m\u001B[1;33m\u001B[0m\u001B[0m\n\u001B[0;32m     10\u001B[0m \u001B[1;32mfrom\u001B[0m \u001B[0mmatrixprofile\u001B[0m\u001B[1;33m.\u001B[0m\u001B[0malgorithms\u001B[0m\u001B[1;33m.\u001B[0m\u001B[0mpairwise_dist\u001B[0m \u001B[1;32mimport\u001B[0m \u001B[0mpairwise_dist\u001B[0m\u001B[1;33m\u001B[0m\u001B[1;33m\u001B[0m\u001B[0m\n",
      "\u001B[1;32mD:\\pycharm_project\\optiver-realized-volatility-prediction\\venv\\lib\\site-packages\\matrixprofile\\algorithms\\skimp.py\u001B[0m in \u001B[0;36m<module>\u001B[1;34m\u001B[0m\n\u001B[0;32m     19\u001B[0m \u001B[1;32mimport\u001B[0m \u001B[0mwarnings\u001B[0m\u001B[1;33m\u001B[0m\u001B[1;33m\u001B[0m\u001B[0m\n\u001B[0;32m     20\u001B[0m \u001B[1;33m\u001B[0m\u001B[0m\n\u001B[1;32m---> 21\u001B[1;33m \u001B[1;32mfrom\u001B[0m \u001B[0mmatplotlib\u001B[0m \u001B[1;32mimport\u001B[0m \u001B[0mpyplot\u001B[0m \u001B[1;32mas\u001B[0m \u001B[0mplt\u001B[0m\u001B[1;33m\u001B[0m\u001B[1;33m\u001B[0m\u001B[0m\n\u001B[0m\u001B[0;32m     22\u001B[0m \u001B[1;32mimport\u001B[0m \u001B[0mnumpy\u001B[0m \u001B[1;32mas\u001B[0m \u001B[0mnp\u001B[0m\u001B[1;33m\u001B[0m\u001B[1;33m\u001B[0m\u001B[0m\n\u001B[0;32m     23\u001B[0m \u001B[1;33m\u001B[0m\u001B[0m\n",
      "\u001B[1;32m~\\anaconda3\\lib\\site-packages\\matplotlib\\__init__.py\u001B[0m in \u001B[0;36m<module>\u001B[1;34m\u001B[0m\n\u001B[0;32m    172\u001B[0m \u001B[1;33m\u001B[0m\u001B[0m\n\u001B[0;32m    173\u001B[0m \u001B[1;33m\u001B[0m\u001B[0m\n\u001B[1;32m--> 174\u001B[1;33m \u001B[0m_check_versions\u001B[0m\u001B[1;33m(\u001B[0m\u001B[1;33m)\u001B[0m\u001B[1;33m\u001B[0m\u001B[1;33m\u001B[0m\u001B[0m\n\u001B[0m\u001B[0;32m    175\u001B[0m \u001B[1;33m\u001B[0m\u001B[0m\n\u001B[0;32m    176\u001B[0m \u001B[1;33m\u001B[0m\u001B[0m\n",
      "\u001B[1;32m~\\anaconda3\\lib\\site-packages\\matplotlib\\__init__.py\u001B[0m in \u001B[0;36m_check_versions\u001B[1;34m()\u001B[0m\n\u001B[0;32m    157\u001B[0m     \u001B[1;31m# Quickfix to ensure Microsoft Visual C++ redistributable\u001B[0m\u001B[1;33m\u001B[0m\u001B[1;33m\u001B[0m\u001B[1;33m\u001B[0m\u001B[0m\n\u001B[0;32m    158\u001B[0m     \u001B[1;31m# DLLs are loaded before importing kiwisolver\u001B[0m\u001B[1;33m\u001B[0m\u001B[1;33m\u001B[0m\u001B[1;33m\u001B[0m\u001B[0m\n\u001B[1;32m--> 159\u001B[1;33m     \u001B[1;32mfrom\u001B[0m \u001B[1;33m.\u001B[0m \u001B[1;32mimport\u001B[0m \u001B[0mft2font\u001B[0m\u001B[1;33m\u001B[0m\u001B[1;33m\u001B[0m\u001B[0m\n\u001B[0m\u001B[0;32m    160\u001B[0m \u001B[1;33m\u001B[0m\u001B[0m\n\u001B[0;32m    161\u001B[0m     for modname, minver in [\n",
      "\u001B[1;31mImportError\u001B[0m: DLL load failed while importing ft2font: %1 不是有效的 Win32 应用程序。"
     ]
    }
   ],
   "source": [
    "from tsfresh import extract_features\n",
    "book0 = book0.reset_index()\n",
    "extracted_features_book = extract_features(book0, column_id=\"time_id\", column_sort=\"index\")"
   ]
  },
  {
   "cell_type": "code",
   "execution_count": null,
   "metadata": {},
   "outputs": [],
   "source": [
    "extracted_features_book.head()"
   ]
  },
  {
   "cell_type": "code",
   "execution_count": 8,
   "metadata": {},
   "outputs": [
    {
     "ename": "ImportError",
     "evalue": "DLL load failed while importing ft2font: %1 不是有效的 Win32 应用程序。",
     "output_type": "error",
     "traceback": [
      "\u001B[1;31m---------------------------------------------------------------------------\u001B[0m",
      "\u001B[1;31mImportError\u001B[0m                               Traceback (most recent call last)",
      "\u001B[1;32m<ipython-input-8-6bdde5b78403>\u001B[0m in \u001B[0;36m<module>\u001B[1;34m\u001B[0m\n\u001B[0;32m      1\u001B[0m \u001B[1;31m#特征筛选\u001B[0m\u001B[1;33m\u001B[0m\u001B[1;33m\u001B[0m\u001B[1;33m\u001B[0m\u001B[0m\n\u001B[1;32m----> 2\u001B[1;33m \u001B[1;32mfrom\u001B[0m \u001B[0mtsfresh\u001B[0m \u001B[1;32mimport\u001B[0m \u001B[0mselect_features\u001B[0m\u001B[1;33m\u001B[0m\u001B[1;33m\u001B[0m\u001B[0m\n\u001B[0m\u001B[0;32m      3\u001B[0m \u001B[1;32mfrom\u001B[0m \u001B[0mtsfresh\u001B[0m\u001B[1;33m.\u001B[0m\u001B[0mutilities\u001B[0m\u001B[1;33m.\u001B[0m\u001B[0mdataframe_functions\u001B[0m \u001B[1;32mimport\u001B[0m \u001B[0mimpute\u001B[0m\u001B[1;33m\u001B[0m\u001B[1;33m\u001B[0m\u001B[0m\n\u001B[0;32m      4\u001B[0m \u001B[1;32mfrom\u001B[0m \u001B[0mtsfresh\u001B[0m \u001B[1;32mimport\u001B[0m \u001B[0mfeature_extraction\u001B[0m\u001B[1;33m\u001B[0m\u001B[1;33m\u001B[0m\u001B[0m\n\u001B[0;32m      5\u001B[0m \u001B[1;33m\u001B[0m\u001B[0m\n",
      "\u001B[1;32mD:\\pycharm_project\\optiver-realized-volatility-prediction\\venv\\lib\\site-packages\\tsfresh\\__init__.py\u001B[0m in \u001B[0;36m<module>\u001B[1;34m\u001B[0m\n\u001B[0;32m     25\u001B[0m \u001B[1;33m\u001B[0m\u001B[0m\n\u001B[0;32m     26\u001B[0m \u001B[1;33m\u001B[0m\u001B[0m\n\u001B[1;32m---> 27\u001B[1;33m from tsfresh.convenience.relevant_extraction import (  # noqa: E402\n\u001B[0m\u001B[0;32m     28\u001B[0m     \u001B[0mextract_relevant_features\u001B[0m\u001B[1;33m,\u001B[0m\u001B[1;33m\u001B[0m\u001B[1;33m\u001B[0m\u001B[0m\n\u001B[0;32m     29\u001B[0m )\n",
      "\u001B[1;32mD:\\pycharm_project\\optiver-realized-volatility-prediction\\venv\\lib\\site-packages\\tsfresh\\convenience\\relevant_extraction.py\u001B[0m in \u001B[0;36m<module>\u001B[1;34m\u001B[0m\n\u001B[0;32m      6\u001B[0m \u001B[1;33m\u001B[0m\u001B[0m\n\u001B[0;32m      7\u001B[0m \u001B[1;32mfrom\u001B[0m \u001B[0mtsfresh\u001B[0m \u001B[1;32mimport\u001B[0m \u001B[0mdefaults\u001B[0m\u001B[1;33m\u001B[0m\u001B[1;33m\u001B[0m\u001B[0m\n\u001B[1;32m----> 8\u001B[1;33m \u001B[1;32mfrom\u001B[0m \u001B[0mtsfresh\u001B[0m\u001B[1;33m.\u001B[0m\u001B[0mfeature_extraction\u001B[0m \u001B[1;32mimport\u001B[0m \u001B[0mextract_features\u001B[0m\u001B[1;33m\u001B[0m\u001B[1;33m\u001B[0m\u001B[0m\n\u001B[0m\u001B[0;32m      9\u001B[0m \u001B[1;32mfrom\u001B[0m \u001B[0mtsfresh\u001B[0m\u001B[1;33m.\u001B[0m\u001B[0mfeature_selection\u001B[0m \u001B[1;32mimport\u001B[0m \u001B[0mselect_features\u001B[0m\u001B[1;33m\u001B[0m\u001B[1;33m\u001B[0m\u001B[0m\n\u001B[0;32m     10\u001B[0m from tsfresh.utilities.dataframe_functions import (\n",
      "\u001B[1;32mD:\\pycharm_project\\optiver-realized-volatility-prediction\\venv\\lib\\site-packages\\tsfresh\\feature_extraction\\__init__.py\u001B[0m in \u001B[0;36m<module>\u001B[1;34m\u001B[0m\n\u001B[0;32m      3\u001B[0m \"\"\"\n\u001B[0;32m      4\u001B[0m \u001B[1;33m\u001B[0m\u001B[0m\n\u001B[1;32m----> 5\u001B[1;33m \u001B[1;32mfrom\u001B[0m \u001B[0mtsfresh\u001B[0m\u001B[1;33m.\u001B[0m\u001B[0mfeature_extraction\u001B[0m\u001B[1;33m.\u001B[0m\u001B[0mextraction\u001B[0m \u001B[1;32mimport\u001B[0m \u001B[0mextract_features\u001B[0m\u001B[1;33m\u001B[0m\u001B[1;33m\u001B[0m\u001B[0m\n\u001B[0m\u001B[0;32m      6\u001B[0m from tsfresh.feature_extraction.settings import (\n\u001B[0;32m      7\u001B[0m     \u001B[0mComprehensiveFCParameters\u001B[0m\u001B[1;33m,\u001B[0m\u001B[1;33m\u001B[0m\u001B[1;33m\u001B[0m\u001B[0m\n",
      "\u001B[1;32mD:\\pycharm_project\\optiver-realized-volatility-prediction\\venv\\lib\\site-packages\\tsfresh\\feature_extraction\\extraction.py\u001B[0m in \u001B[0;36m<module>\u001B[1;34m\u001B[0m\n\u001B[0;32m     13\u001B[0m \u001B[1;33m\u001B[0m\u001B[0m\n\u001B[0;32m     14\u001B[0m \u001B[1;32mfrom\u001B[0m \u001B[0mtsfresh\u001B[0m \u001B[1;32mimport\u001B[0m \u001B[0mdefaults\u001B[0m\u001B[1;33m\u001B[0m\u001B[1;33m\u001B[0m\u001B[0m\n\u001B[1;32m---> 15\u001B[1;33m \u001B[1;32mfrom\u001B[0m \u001B[0mtsfresh\u001B[0m\u001B[1;33m.\u001B[0m\u001B[0mfeature_extraction\u001B[0m \u001B[1;32mimport\u001B[0m \u001B[0mfeature_calculators\u001B[0m\u001B[1;33m\u001B[0m\u001B[1;33m\u001B[0m\u001B[0m\n\u001B[0m\u001B[0;32m     16\u001B[0m \u001B[1;32mfrom\u001B[0m \u001B[0mtsfresh\u001B[0m\u001B[1;33m.\u001B[0m\u001B[0mfeature_extraction\u001B[0m\u001B[1;33m.\u001B[0m\u001B[0mdata\u001B[0m \u001B[1;32mimport\u001B[0m \u001B[0mto_tsdata\u001B[0m\u001B[1;33m\u001B[0m\u001B[1;33m\u001B[0m\u001B[0m\n\u001B[0;32m     17\u001B[0m \u001B[1;32mfrom\u001B[0m \u001B[0mtsfresh\u001B[0m\u001B[1;33m.\u001B[0m\u001B[0mfeature_extraction\u001B[0m\u001B[1;33m.\u001B[0m\u001B[0msettings\u001B[0m \u001B[1;32mimport\u001B[0m \u001B[0mComprehensiveFCParameters\u001B[0m\u001B[1;33m\u001B[0m\u001B[1;33m\u001B[0m\u001B[0m\n",
      "\u001B[1;32mD:\\pycharm_project\\optiver-realized-volatility-prediction\\venv\\lib\\site-packages\\tsfresh\\feature_extraction\\feature_calculators.py\u001B[0m in \u001B[0;36m<module>\u001B[1;34m\u001B[0m\n\u001B[0;32m     24\u001B[0m \u001B[1;32mfrom\u001B[0m \u001B[0mcollections\u001B[0m \u001B[1;32mimport\u001B[0m \u001B[0mdefaultdict\u001B[0m\u001B[1;33m\u001B[0m\u001B[1;33m\u001B[0m\u001B[0m\n\u001B[0;32m     25\u001B[0m \u001B[1;33m\u001B[0m\u001B[0m\n\u001B[1;32m---> 26\u001B[1;33m \u001B[1;32mimport\u001B[0m \u001B[0mmatrixprofile\u001B[0m \u001B[1;32mas\u001B[0m \u001B[0mmp\u001B[0m\u001B[1;33m\u001B[0m\u001B[1;33m\u001B[0m\u001B[0m\n\u001B[0m\u001B[0;32m     27\u001B[0m \u001B[1;32mimport\u001B[0m \u001B[0mnumpy\u001B[0m \u001B[1;32mas\u001B[0m \u001B[0mnp\u001B[0m\u001B[1;33m\u001B[0m\u001B[1;33m\u001B[0m\u001B[0m\n\u001B[0;32m     28\u001B[0m \u001B[1;32mimport\u001B[0m \u001B[0mpandas\u001B[0m \u001B[1;32mas\u001B[0m \u001B[0mpd\u001B[0m\u001B[1;33m\u001B[0m\u001B[1;33m\u001B[0m\u001B[0m\n",
      "\u001B[1;32mD:\\pycharm_project\\optiver-realized-volatility-prediction\\venv\\lib\\site-packages\\matrixprofile\\__init__.py\u001B[0m in \u001B[0;36m<module>\u001B[1;34m\u001B[0m\n\u001B[0;32m      6\u001B[0m \u001B[1;32mfrom\u001B[0m \u001B[0mmatrixprofile\u001B[0m\u001B[1;33m.\u001B[0m\u001B[0mversion\u001B[0m \u001B[1;32mimport\u001B[0m \u001B[0m__version__\u001B[0m\u001B[1;33m,\u001B[0m \u001B[0m__version_info__\u001B[0m\u001B[1;33m\u001B[0m\u001B[1;33m\u001B[0m\u001B[0m\n\u001B[0;32m      7\u001B[0m \u001B[1;33m\u001B[0m\u001B[0m\n\u001B[1;32m----> 8\u001B[1;33m \u001B[1;32mfrom\u001B[0m \u001B[0mmatrixprofile\u001B[0m\u001B[1;33m.\u001B[0m\u001B[0mcompute\u001B[0m \u001B[1;32mimport\u001B[0m \u001B[0mcompute\u001B[0m\u001B[1;33m\u001B[0m\u001B[1;33m\u001B[0m\u001B[0m\n\u001B[0m\u001B[0;32m      9\u001B[0m \u001B[1;32mfrom\u001B[0m \u001B[0mmatrixprofile\u001B[0m\u001B[1;33m.\u001B[0m\u001B[0mvisualize\u001B[0m \u001B[1;32mimport\u001B[0m \u001B[0mvisualize\u001B[0m\u001B[1;33m\u001B[0m\u001B[1;33m\u001B[0m\u001B[0m\n\u001B[0;32m     10\u001B[0m \u001B[1;32mfrom\u001B[0m \u001B[0mmatrixprofile\u001B[0m\u001B[1;33m.\u001B[0m\u001B[0manalyze\u001B[0m \u001B[1;32mimport\u001B[0m \u001B[0manalyze\u001B[0m\u001B[1;33m\u001B[0m\u001B[1;33m\u001B[0m\u001B[0m\n",
      "\u001B[1;32mD:\\pycharm_project\\optiver-realized-volatility-prediction\\venv\\lib\\site-packages\\matrixprofile\\compute.py\u001B[0m in \u001B[0;36m<module>\u001B[1;34m\u001B[0m\n\u001B[0;32m     23\u001B[0m \u001B[1;32mfrom\u001B[0m \u001B[0mmatrixprofile\u001B[0m\u001B[1;33m.\u001B[0m\u001B[0malgorithms\u001B[0m\u001B[1;33m.\u001B[0m\u001B[0mmpx\u001B[0m \u001B[1;32mimport\u001B[0m \u001B[0mmpx\u001B[0m\u001B[1;33m\u001B[0m\u001B[1;33m\u001B[0m\u001B[0m\n\u001B[0;32m     24\u001B[0m \u001B[1;32mfrom\u001B[0m \u001B[0mmatrixprofile\u001B[0m\u001B[1;33m.\u001B[0m\u001B[0malgorithms\u001B[0m\u001B[1;33m.\u001B[0m\u001B[0mscrimp\u001B[0m \u001B[1;32mimport\u001B[0m \u001B[0mscrimp_plus_plus\u001B[0m\u001B[1;33m\u001B[0m\u001B[1;33m\u001B[0m\u001B[0m\n\u001B[1;32m---> 25\u001B[1;33m \u001B[1;32mfrom\u001B[0m \u001B[0mmatrixprofile\u001B[0m\u001B[1;33m.\u001B[0m\u001B[0malgorithms\u001B[0m\u001B[1;33m.\u001B[0m\u001B[0mskimp\u001B[0m \u001B[1;32mimport\u001B[0m \u001B[0mskimp\u001B[0m\u001B[1;33m\u001B[0m\u001B[1;33m\u001B[0m\u001B[0m\n\u001B[0m\u001B[0;32m     26\u001B[0m \u001B[1;32mfrom\u001B[0m \u001B[0mmatrixprofile\u001B[0m\u001B[1;33m.\u001B[0m\u001B[0malgorithms\u001B[0m\u001B[1;33m.\u001B[0m\u001B[0mskimp\u001B[0m \u001B[1;32mimport\u001B[0m \u001B[0mmaximum_subsequence\u001B[0m\u001B[1;33m\u001B[0m\u001B[1;33m\u001B[0m\u001B[0m\n\u001B[0;32m     27\u001B[0m \u001B[1;33m\u001B[0m\u001B[0m\n",
      "\u001B[1;32mD:\\pycharm_project\\optiver-realized-volatility-prediction\\venv\\lib\\site-packages\\matrixprofile\\algorithms\\__init__.py\u001B[0m in \u001B[0;36m<module>\u001B[1;34m\u001B[0m\n\u001B[0;32m      6\u001B[0m \u001B[1;32mfrom\u001B[0m \u001B[0mmatrixprofile\u001B[0m\u001B[1;33m.\u001B[0m\u001B[0malgorithms\u001B[0m\u001B[1;33m.\u001B[0m\u001B[0mscrimp\u001B[0m \u001B[1;32mimport\u001B[0m \u001B[0mscrimp_plus_plus\u001B[0m\u001B[1;33m\u001B[0m\u001B[1;33m\u001B[0m\u001B[0m\n\u001B[0;32m      7\u001B[0m \u001B[1;32mfrom\u001B[0m \u001B[0mmatrixprofile\u001B[0m\u001B[1;33m.\u001B[0m\u001B[0malgorithms\u001B[0m\u001B[1;33m.\u001B[0m\u001B[0mscrimp\u001B[0m \u001B[1;32mimport\u001B[0m \u001B[0mprescrimp\u001B[0m\u001B[1;33m\u001B[0m\u001B[1;33m\u001B[0m\u001B[0m\n\u001B[1;32m----> 8\u001B[1;33m \u001B[1;32mfrom\u001B[0m \u001B[0mmatrixprofile\u001B[0m\u001B[1;33m.\u001B[0m\u001B[0malgorithms\u001B[0m\u001B[1;33m.\u001B[0m\u001B[0mskimp\u001B[0m \u001B[1;32mimport\u001B[0m \u001B[0mskimp\u001B[0m\u001B[1;33m\u001B[0m\u001B[1;33m\u001B[0m\u001B[0m\n\u001B[0m\u001B[0;32m      9\u001B[0m \u001B[1;32mfrom\u001B[0m \u001B[0mmatrixprofile\u001B[0m\u001B[1;33m.\u001B[0m\u001B[0malgorithms\u001B[0m\u001B[1;33m.\u001B[0m\u001B[0mskimp\u001B[0m \u001B[1;32mimport\u001B[0m \u001B[0mmaximum_subsequence\u001B[0m\u001B[1;33m\u001B[0m\u001B[1;33m\u001B[0m\u001B[0m\n\u001B[0;32m     10\u001B[0m \u001B[1;32mfrom\u001B[0m \u001B[0mmatrixprofile\u001B[0m\u001B[1;33m.\u001B[0m\u001B[0malgorithms\u001B[0m\u001B[1;33m.\u001B[0m\u001B[0mpairwise_dist\u001B[0m \u001B[1;32mimport\u001B[0m \u001B[0mpairwise_dist\u001B[0m\u001B[1;33m\u001B[0m\u001B[1;33m\u001B[0m\u001B[0m\n",
      "\u001B[1;32mD:\\pycharm_project\\optiver-realized-volatility-prediction\\venv\\lib\\site-packages\\matrixprofile\\algorithms\\skimp.py\u001B[0m in \u001B[0;36m<module>\u001B[1;34m\u001B[0m\n\u001B[0;32m     19\u001B[0m \u001B[1;32mimport\u001B[0m \u001B[0mwarnings\u001B[0m\u001B[1;33m\u001B[0m\u001B[1;33m\u001B[0m\u001B[0m\n\u001B[0;32m     20\u001B[0m \u001B[1;33m\u001B[0m\u001B[0m\n\u001B[1;32m---> 21\u001B[1;33m \u001B[1;32mfrom\u001B[0m \u001B[0mmatplotlib\u001B[0m \u001B[1;32mimport\u001B[0m \u001B[0mpyplot\u001B[0m \u001B[1;32mas\u001B[0m \u001B[0mplt\u001B[0m\u001B[1;33m\u001B[0m\u001B[1;33m\u001B[0m\u001B[0m\n\u001B[0m\u001B[0;32m     22\u001B[0m \u001B[1;32mimport\u001B[0m \u001B[0mnumpy\u001B[0m \u001B[1;32mas\u001B[0m \u001B[0mnp\u001B[0m\u001B[1;33m\u001B[0m\u001B[1;33m\u001B[0m\u001B[0m\n\u001B[0;32m     23\u001B[0m \u001B[1;33m\u001B[0m\u001B[0m\n",
      "\u001B[1;32m~\\anaconda3\\lib\\site-packages\\matplotlib\\__init__.py\u001B[0m in \u001B[0;36m<module>\u001B[1;34m\u001B[0m\n\u001B[0;32m    172\u001B[0m \u001B[1;33m\u001B[0m\u001B[0m\n\u001B[0;32m    173\u001B[0m \u001B[1;33m\u001B[0m\u001B[0m\n\u001B[1;32m--> 174\u001B[1;33m \u001B[0m_check_versions\u001B[0m\u001B[1;33m(\u001B[0m\u001B[1;33m)\u001B[0m\u001B[1;33m\u001B[0m\u001B[1;33m\u001B[0m\u001B[0m\n\u001B[0m\u001B[0;32m    175\u001B[0m \u001B[1;33m\u001B[0m\u001B[0m\n\u001B[0;32m    176\u001B[0m \u001B[1;33m\u001B[0m\u001B[0m\n",
      "\u001B[1;32m~\\anaconda3\\lib\\site-packages\\matplotlib\\__init__.py\u001B[0m in \u001B[0;36m_check_versions\u001B[1;34m()\u001B[0m\n\u001B[0;32m    157\u001B[0m     \u001B[1;31m# Quickfix to ensure Microsoft Visual C++ redistributable\u001B[0m\u001B[1;33m\u001B[0m\u001B[1;33m\u001B[0m\u001B[1;33m\u001B[0m\u001B[0m\n\u001B[0;32m    158\u001B[0m     \u001B[1;31m# DLLs are loaded before importing kiwisolver\u001B[0m\u001B[1;33m\u001B[0m\u001B[1;33m\u001B[0m\u001B[1;33m\u001B[0m\u001B[0m\n\u001B[1;32m--> 159\u001B[1;33m     \u001B[1;32mfrom\u001B[0m \u001B[1;33m.\u001B[0m \u001B[1;32mimport\u001B[0m \u001B[0mft2font\u001B[0m\u001B[1;33m\u001B[0m\u001B[1;33m\u001B[0m\u001B[0m\n\u001B[0m\u001B[0;32m    160\u001B[0m \u001B[1;33m\u001B[0m\u001B[0m\n\u001B[0;32m    161\u001B[0m     for modname, minver in [\n",
      "\u001B[1;31mImportError\u001B[0m: DLL load failed while importing ft2font: %1 不是有效的 Win32 应用程序。"
     ]
    }
   ],
   "source": [
    "#特征筛选\n",
    "from tsfresh import select_features\n",
    "from tsfresh.utilities.dataframe_functions import impute\n",
    "from tsfresh import feature_extraction\n",
    "\n",
    "impute(extracted_features_book)\n",
    "features_filtered_book = select_features(extracted_features_book.reset_index(drop=True), label)\n",
    "feature_param_book = feature_extraction.settings.from_columns(features_filtered_book)"
   ]
  },
  {
   "cell_type": "code",
   "execution_count": null,
   "metadata": {},
   "outputs": [],
   "source": [
    "len(features_filtered_book.columns)"
   ]
  },
  {
   "cell_type": "code",
   "execution_count": null,
   "metadata": {},
   "outputs": [],
   "source": [
    "features_filtered_book.to_csv('../data/features_filtered_book.csv')"
   ]
  },
  {
   "cell_type": "code",
   "execution_count": null,
   "metadata": {},
   "outputs": [],
   "source": [
    "trade0 = trade0.reset_index()\n",
    "extracted_features_trade0 = extract_features(trade0[['time_id','index']+col_name_trade], column_id=\"time_id\", column_sort=\"index\")"
   ]
  },
  {
   "cell_type": "code",
   "execution_count": null,
   "metadata": {},
   "outputs": [],
   "source": [
    "#特征筛选\n",
    "from tsfresh import select_features\n",
    "from tsfresh.utilities.dataframe_functions import impute\n",
    "from tsfresh import feature_extraction\n",
    "\n",
    "impute(extracted_features_trade0)\n",
    "features_filtered_trade0 = select_features(extracted_features_trade0.reset_index(drop=True), label)\n",
    "feature_param_trade = feature_extraction.settings.from_columns(features_filtered_trade0)"
   ]
  },
  {
   "cell_type": "code",
   "execution_count": null,
   "metadata": {},
   "outputs": [],
   "source": [
    "features_filtered_trade0.to_csv('../data/features_filtered_trade0.csv')"
   ]
  },
  {
   "cell_type": "code",
   "execution_count": null,
   "metadata": {},
   "outputs": [],
   "source": [
    "feature_all = features_filtered_book.merge(features_filtered_trade0,how='inner',left_index=True,right_index=True)"
   ]
  },
  {
   "cell_type": "code",
   "execution_count": null,
   "metadata": {},
   "outputs": [],
   "source": [
    "feature_all.to_csv('../data/feature_all.csv')"
   ]
  },
  {
   "cell_type": "code",
   "execution_count": null,
   "metadata": {},
   "outputs": [],
   "source": [
    "import numpy as np\n",
    "np.save('../data/feature_param_trade.npy', feature_param_trade) \n",
    "np.save('../data/feature_param_book.npy', feature_param_book) "
   ]
  },
  {
   "cell_type": "code",
   "execution_count": null,
   "metadata": {},
   "outputs": [],
   "source": [
    "import numpy as np\n",
    "t = np.load('../data/feature_param_trade.npy',allow_pickle = True).item()"
   ]
  },
  {
   "cell_type": "code",
   "execution_count": null,
   "metadata": {},
   "outputs": [],
   "source": [
    "book0['log_return'] = book0.groupby(['time_id'])['book_wap1'].apply(util.log_return)\n",
    "book0 = book0[~book0['log_return'].isnull()]\n",
    "temp=  pd.DataFrame(book0.groupby(['time_id'])['log_return'].agg(util.realized_volatility)).reset_index()"
   ]
  },
  {
   "cell_type": "code",
   "execution_count": null,
   "metadata": {},
   "outputs": [],
   "source": [
    "label_res = label-temp.log_return"
   ]
  },
  {
   "cell_type": "code",
   "execution_count": null,
   "metadata": {},
   "outputs": [],
   "source": [
    "from matplotlib import pyplot as plt\n",
    "plt.hist(label_res,bins=50)"
   ]
  },
  {
   "cell_type": "code",
   "execution_count": null,
   "metadata": {},
   "outputs": [],
   "source": []
  }
 ],
 "metadata": {
  "hide_input": false,
  "kernelspec": {
   "name": "optiver-realized-volatility-prediction",
   "language": "python",
   "display_name": "optiver-realized-volatility-prediction"
  },
  "language_info": {
   "codemirror_mode": {
    "name": "ipython",
    "version": 3
   },
   "file_extension": ".py",
   "mimetype": "text/x-python",
   "name": "python",
   "nbconvert_exporter": "python",
   "pygments_lexer": "ipython3",
   "version": "3.8.8"
  },
  "varInspector": {
   "cols": {
    "lenName": 16,
    "lenType": 16,
    "lenVar": 40
   },
   "kernels_config": {
    "python": {
     "delete_cmd_postfix": "",
     "delete_cmd_prefix": "del ",
     "library": "var_list.py",
     "varRefreshCmd": "print(var_dic_list())"
    },
    "r": {
     "delete_cmd_postfix": ") ",
     "delete_cmd_prefix": "rm(",
     "library": "var_list.r",
     "varRefreshCmd": "cat(var_dic_list()) "
    }
   },
   "types_to_exclude": [
    "module",
    "function",
    "builtin_function_or_method",
    "instance",
    "_Feature"
   ],
   "window_display": false
  }
 },
 "nbformat": 4,
 "nbformat_minor": 2
}